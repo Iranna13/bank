{
 "cells": [
  {
   "cell_type": "code",
   "execution_count": 19,
   "id": "d8b6d871",
   "metadata": {},
   "outputs": [],
   "source": [
    "import findspark\n",
    "findspark.init()"
   ]
  },
  {
   "cell_type": "code",
   "execution_count": 20,
   "id": "94e19c6a",
   "metadata": {},
   "outputs": [],
   "source": [
    "import pyspark\n",
    "from pyspark.sql import SparkSession\n",
    "spark=SparkSession.builder.appName('demo').getOrCreate()"
   ]
  },
  {
   "cell_type": "code",
   "execution_count": 21,
   "id": "475f1b79",
   "metadata": {},
   "outputs": [
    {
     "name": "stdout",
     "output_type": "stream",
     "text": [
      "+------------+----------+-----------+----------+------------+------------------+---------------+---------------+-----------------+----+\n",
      "|TransctionID|CustomerID|CustomerDOB|CustGender|CustLocation|CustAccountBalance|TransactionDate|TransactionTime|TransactionAmount| _c9|\n",
      "+------------+----------+-----------+----------+------------+------------------+---------------+---------------+-----------------+----+\n",
      "|          T1|  C5841053| 10-01-1994|         F|  JAMSHEDPUR|          17819.05|     02-08-2016|         143207|             25.0|null|\n",
      "|          T2|  C2142763| 04-04-1957|         M|     JHAJJAR|           2270.69|     02-08-2016|         141858|          27999.0|null|\n",
      "|          T3|  C4417068| 26-11-1996|         F|      MUMBAI|          17874.44|     02-08-2016|         142712|            459.0|null|\n",
      "+------------+----------+-----------+----------+------------+------------------+---------------+---------------+-----------------+----+\n",
      "only showing top 3 rows\n",
      "\n"
     ]
    }
   ],
   "source": [
    "df=spark.read.csv(\"bank_segdata.csv\",inferSchema=True,header=True)\n",
    "df.show(3)"
   ]
  },
  {
   "cell_type": "code",
   "execution_count": 6,
   "id": "a825bfde",
   "metadata": {},
   "outputs": [
    {
     "data": {
      "text/plain": [
       "pyspark.sql.dataframe.DataFrame"
      ]
     },
     "execution_count": 6,
     "metadata": {},
     "output_type": "execute_result"
    }
   ],
   "source": [
    "type(df)"
   ]
  },
  {
   "cell_type": "code",
   "execution_count": 7,
   "id": "58de358f",
   "metadata": {},
   "outputs": [
    {
     "data": {
      "text/plain": [
       "2006"
      ]
     },
     "execution_count": 7,
     "metadata": {},
     "output_type": "execute_result"
    }
   ],
   "source": [
    "df.count()"
   ]
  },
  {
   "cell_type": "code",
   "execution_count": 8,
   "id": "5c74ab1f",
   "metadata": {},
   "outputs": [
    {
     "data": {
      "text/plain": [
       "[Row(TransctionID='T1', CustomerID='C5841053', CustomerDOB='10-01-1994', CustGender='F', CustLocation='JAMSHEDPUR', CustAccountBalance=17819.05, TransactionDate='02-08-2016', TransactionTime=143207, TransactionAmount=25.0, _c9=None),\n",
       " Row(TransctionID='T2', CustomerID='C2142763', CustomerDOB='04-04-1957', CustGender='M', CustLocation='JHAJJAR', CustAccountBalance=2270.69, TransactionDate='02-08-2016', TransactionTime=141858, TransactionAmount=27999.0, _c9=None),\n",
       " Row(TransctionID='T3', CustomerID='C4417068', CustomerDOB='26-11-1996', CustGender='F', CustLocation='MUMBAI', CustAccountBalance=17874.44, TransactionDate='02-08-2016', TransactionTime=142712, TransactionAmount=459.0, _c9=None)]"
      ]
     },
     "execution_count": 8,
     "metadata": {},
     "output_type": "execute_result"
    }
   ],
   "source": [
    "df.take(3)"
   ]
  },
  {
   "cell_type": "code",
   "execution_count": null,
   "id": "31f34785",
   "metadata": {},
   "outputs": [],
   "source": []
  },
  {
   "cell_type": "code",
   "execution_count": 10,
   "id": "cfbc1a2e",
   "metadata": {},
   "outputs": [
    {
     "name": "stdout",
     "output_type": "stream",
     "text": [
      "+------------+----------+-----------+----------+------------+------------------+---------------+---------------+-----------------+----+\n",
      "|TransctionID|CustomerID|CustomerDOB|CustGender|CustLocation|CustAccountBalance|TransactionDate|TransactionTime|TransactionAmount| _c9|\n",
      "+------------+----------+-----------+----------+------------+------------------+---------------+---------------+-----------------+----+\n",
      "|          T1|  C5841053| 10-01-1994|         F|  JAMSHEDPUR|          17819.05|     02-08-2016|         143207|             25.0|null|\n",
      "|          T2|  C2142763| 04-04-1957|         M|     JHAJJAR|           2270.69|     02-08-2016|         141858|          27999.0|null|\n",
      "|          T3|  C4417068| 26-11-1996|         F|      MUMBAI|          17874.44|     02-08-2016|         142712|            459.0|null|\n",
      "|          T4|  C5342380| 14-09-1973|         F|      MUMBAI|         866503.21|     02-08-2016|         142714|           2060.0|null|\n",
      "|          T5|  C9031234| 24-03-1988|         F| NAVI MUMBAI|           6714.43|     02-08-2016|         181156|           1762.5|null|\n",
      "+------------+----------+-----------+----------+------------+------------------+---------------+---------------+-----------------+----+\n",
      "\n"
     ]
    }
   ],
   "source": [
    "myfunc = spark.read.csv(\"bank_segdata.csv\", inferSchema=True, header=True)\n",
    "df = myfunc.limit(5) # limit to only show first 3 rows\n",
    "df.show()\n",
    "\n",
    "# # Convert DataFrame to RDD\n",
    "# rdd = df.rdd\n",
    "# rdd.collect() # Collect and print all elements in the RDD\n"
   ]
  },
  {
   "cell_type": "code",
   "execution_count": 1,
   "id": "7c1dea84",
   "metadata": {},
   "outputs": [],
   "source": [
    "# # Convert DataFrame to RDD\n",
    "# rdd = df.rdd\n",
    "# rdd.collect() # Collect and print all elements in the RDD"
   ]
  },
  {
   "cell_type": "code",
   "execution_count": 2,
   "id": "c9c2e6db",
   "metadata": {},
   "outputs": [],
   "source": [
    "#raw_content = spark.sparkContext.textFile(\"bank_segdata.csv\")\n"
   ]
  },
  {
   "cell_type": "code",
   "execution_count": 4,
   "id": "e989f475",
   "metadata": {},
   "outputs": [],
   "source": [
    "#type(raw_content)"
   ]
  },
  {
   "cell_type": "code",
   "execution_count": 5,
   "id": "03298bca",
   "metadata": {},
   "outputs": [],
   "source": [
    "#raw_content.count()"
   ]
  },
  {
   "cell_type": "code",
   "execution_count": 6,
   "id": "3f0be172",
   "metadata": {},
   "outputs": [],
   "source": [
    "#raw_content.take(5)"
   ]
  },
  {
   "cell_type": "code",
   "execution_count": 7,
   "id": "2961253d",
   "metadata": {},
   "outputs": [],
   "source": [
    "#raw_content.takeSample(True, 5, 3)"
   ]
  },
  {
   "cell_type": "code",
   "execution_count": 8,
   "id": "7c7853f1",
   "metadata": {},
   "outputs": [],
   "source": [
    "# content = raw_content.map(lambda x: x.split(','))\n",
    "# content.take(3)"
   ]
  },
  {
   "cell_type": "code",
   "execution_count": 9,
   "id": "e72c7745",
   "metadata": {},
   "outputs": [],
   "source": [
    "# def clean(x):\n",
    "#         return([xx.replace('', \"\") for xx in x])"
   ]
  },
  {
   "cell_type": "code",
   "execution_count": 10,
   "id": "13b24d11",
   "metadata": {},
   "outputs": [],
   "source": [
    "#content = content.map(clean)"
   ]
  },
  {
   "cell_type": "code",
   "execution_count": 11,
   "id": "1b104fb9",
   "metadata": {},
   "outputs": [],
   "source": [
    "#content.take(4)"
   ]
  },
  {
   "cell_type": "code",
   "execution_count": 12,
   "id": "58bcc785",
   "metadata": {},
   "outputs": [],
   "source": [
    "#package_count = content.map(lambda x: (x[6], 1)).reduceByKey(lambda a,b: a+b)"
   ]
  },
  {
   "cell_type": "code",
   "execution_count": 13,
   "id": "7f837d53",
   "metadata": {},
   "outputs": [],
   "source": [
    "#type(package_count)"
   ]
  },
  {
   "cell_type": "code",
   "execution_count": 14,
   "id": "a65a5182",
   "metadata": {},
   "outputs": [],
   "source": [
    "#package_count.count()"
   ]
  },
  {
   "cell_type": "code",
   "execution_count": 15,
   "id": "1d3fd839",
   "metadata": {},
   "outputs": [],
   "source": [
    "#package_count.take(5)"
   ]
  },
  {
   "cell_type": "code",
   "execution_count": 16,
   "id": "9d826a9f",
   "metadata": {},
   "outputs": [],
   "source": [
    "#package_count_2 = content.map(lambda x: (x[6], 1)).countByKey()"
   ]
  },
  {
   "cell_type": "code",
   "execution_count": 17,
   "id": "bff847e7",
   "metadata": {},
   "outputs": [],
   "source": [
    "#type(package_count_2)"
   ]
  },
  {
   "cell_type": "code",
   "execution_count": null,
   "id": "c63af62b",
   "metadata": {},
   "outputs": [],
   "source": []
  },
  {
   "cell_type": "code",
   "execution_count": null,
   "id": "1abe413b",
   "metadata": {},
   "outputs": [],
   "source": []
  },
  {
   "cell_type": "code",
   "execution_count": null,
   "id": "60d47b34",
   "metadata": {},
   "outputs": [],
   "source": []
  },
  {
   "cell_type": "code",
   "execution_count": 3,
   "id": "ecd7dcf9",
   "metadata": {},
   "outputs": [],
   "source": [
    "import findspark\n",
    "findspark.init()\n",
    "import pyspark\n",
    "from pyspark.sql import SparkSession\n",
    "spark = SparkSession.builder.getOrCreate()\n",
    "from pyspark.sql.functions import *\n"
   ]
  },
  {
   "cell_type": "code",
   "execution_count": 4,
   "id": "a939a0d3",
   "metadata": {},
   "outputs": [],
   "source": [
    "df = spark.read.csv(\"bank_segdata.csv\", inferSchema = True, header = True)"
   ]
  },
  {
   "cell_type": "code",
   "execution_count": 22,
   "id": "b6b7a9e4",
   "metadata": {},
   "outputs": [
    {
     "name": "stdout",
     "output_type": "stream",
     "text": [
      "root\n",
      " |-- TransctionID: string (nullable = true)\n",
      " |-- CustomerID: string (nullable = true)\n",
      " |-- CustomerDOB: string (nullable = true)\n",
      " |-- CustGender: string (nullable = true)\n",
      " |-- CustLocation: string (nullable = true)\n",
      " |-- CustAccountBalance: double (nullable = true)\n",
      " |-- TransactionDate: string (nullable = true)\n",
      " |-- TransactionTime: integer (nullable = true)\n",
      " |-- TransactionAmount: double (nullable = true)\n",
      " |-- _c9: string (nullable = true)\n",
      "\n"
     ]
    }
   ],
   "source": [
    "df.printSchema()"
   ]
  },
  {
   "cell_type": "code",
   "execution_count": 25,
   "id": "aa445669",
   "metadata": {},
   "outputs": [
    {
     "name": "stdout",
     "output_type": "stream",
     "text": [
      "+------------+----------+-----------+----------+------------+------------------+---------------+---------------+-----------------+----+\n",
      "|TransctionID|CustomerID|CustomerDOB|CustGender|CustLocation|CustAccountBalance|TransactionDate|TransactionTime|TransactionAmount| _c9|\n",
      "+------------+----------+-----------+----------+------------+------------------+---------------+---------------+-----------------+----+\n",
      "|          T1|  C5841053| 10-01-1994|         F|  JAMSHEDPUR|          17819.05|     02-08-2016|         143207|             25.0|null|\n",
      "|          T2|  C2142763| 04-04-1957|         M|     JHAJJAR|           2270.69|     02-08-2016|         141858|          27999.0|null|\n",
      "|          T3|  C4417068| 26-11-1996|         F|      MUMBAI|          17874.44|     02-08-2016|         142712|            459.0|null|\n",
      "|          T4|  C5342380| 14-09-1973|         F|      MUMBAI|         866503.21|     02-08-2016|         142714|           2060.0|null|\n",
      "|          T5|  C9031234| 24-03-1988|         F| NAVI MUMBAI|           6714.43|     02-08-2016|         181156|           1762.5|null|\n",
      "+------------+----------+-----------+----------+------------+------------------+---------------+---------------+-----------------+----+\n",
      "only showing top 5 rows\n",
      "\n"
     ]
    }
   ],
   "source": [
    "df.show(5)"
   ]
  },
  {
   "cell_type": "code",
   "execution_count": 26,
   "id": "5388d8d7",
   "metadata": {},
   "outputs": [
    {
     "data": {
      "text/plain": [
       "10"
      ]
     },
     "execution_count": 26,
     "metadata": {},
     "output_type": "execute_result"
    }
   ],
   "source": [
    "len(df.columns)"
   ]
  },
  {
   "cell_type": "code",
   "execution_count": 27,
   "id": "fce074cf",
   "metadata": {},
   "outputs": [
    {
     "data": {
      "text/plain": [
       "2006"
      ]
     },
     "execution_count": 27,
     "metadata": {},
     "output_type": "execute_result"
    }
   ],
   "source": [
    "df.count()"
   ]
  },
  {
   "cell_type": "code",
   "execution_count": 28,
   "id": "6630d69e",
   "metadata": {},
   "outputs": [
    {
     "data": {
      "text/plain": [
       "2006"
      ]
     },
     "execution_count": 28,
     "metadata": {},
     "output_type": "execute_result"
    }
   ],
   "source": [
    "\n",
    "df.distinct().count()"
   ]
  },
  {
   "cell_type": "code",
   "execution_count": 29,
   "id": "92a003d0",
   "metadata": {},
   "outputs": [
    {
     "name": "stdout",
     "output_type": "stream",
     "text": [
      "+----------+-----+\n",
      "|CustomerId|count|\n",
      "+----------+-----+\n",
      "|  C1841937|    2|\n",
      "|  C8732711|    1|\n",
      "|  C6421261|    1|\n",
      "|  C2939112|    1|\n",
      "|  C8741166|    1|\n",
      "|  C4440931|    1|\n",
      "|  C8116854|    1|\n",
      "|  C4029960|    1|\n",
      "|  C7817677|    1|\n",
      "|  C4240562|    1|\n",
      "|  C2221420|    1|\n",
      "|  C8524541|    1|\n",
      "|  C8017865|    1|\n",
      "|  C1021343|    1|\n",
      "|  C4814390|    1|\n",
      "|  C7330163|    1|\n",
      "|  C8640163|    1|\n",
      "|  C4127485|    1|\n",
      "|  C2440683|    1|\n",
      "|  C7034179|    1|\n",
      "+----------+-----+\n",
      "only showing top 20 rows\n",
      "\n"
     ]
    }
   ],
   "source": [
    "\n",
    "df.groupBy(\"CustomerId\").count().orderBy(\"count\", ascending = False).show()"
   ]
  },
  {
   "cell_type": "code",
   "execution_count": 38,
   "id": "81f01cc3",
   "metadata": {},
   "outputs": [
    {
     "data": {
      "text/plain": [
       "10"
      ]
     },
     "execution_count": 38,
     "metadata": {},
     "output_type": "execute_result"
    }
   ],
   "source": [
    "#1\n",
    "df.filter(df[\"CustAccountBalance\"]<\"100\").count()"
   ]
  },
  {
   "cell_type": "code",
   "execution_count": 39,
   "id": "84a68c96",
   "metadata": {},
   "outputs": [
    {
     "name": "stdout",
     "output_type": "stream",
     "text": [
      "+----------+\n",
      "|CustomerID|\n",
      "+----------+\n",
      "|  C4325361|\n",
      "|  C7675278|\n",
      "|  C8738676|\n",
      "|  C6784890|\n",
      "|  C6629680|\n",
      "|  C1631481|\n",
      "|  C3414431|\n",
      "|  C5874370|\n",
      "|  C7814446|\n",
      "|  C7729224|\n",
      "|  C5830361|\n",
      "+----------+\n",
      "\n"
     ]
    }
   ],
   "source": [
    "#2\n",
    "df.filter(df[\"TransactionAmount\"] >50000).select(\"CustomerID\").show()\n",
    "\n"
   ]
  },
  {
   "cell_type": "code",
   "execution_count": 33,
   "id": "c93f26cd",
   "metadata": {},
   "outputs": [
    {
     "name": "stdout",
     "output_type": "stream",
     "text": [
      "+----------+\n",
      "|CustGender|\n",
      "+----------+\n",
      "|         F|\n",
      "|      null|\n",
      "|         M|\n",
      "+----------+\n",
      "\n"
     ]
    }
   ],
   "source": [
    "#3\n",
    "df.select(\"CustGender\").distinct().show()"
   ]
  },
  {
   "cell_type": "code",
   "execution_count": null,
   "id": "a1d8c5a9",
   "metadata": {},
   "outputs": [],
   "source": []
  },
  {
   "cell_type": "code",
   "execution_count": 18,
   "id": "06b86bc7",
   "metadata": {},
   "outputs": [
    {
     "ename": "NameError",
     "evalue": "name 'df' is not defined",
     "output_type": "error",
     "traceback": [
      "\u001b[1;31m---------------------------------------------------------------------------\u001b[0m",
      "\u001b[1;31mNameError\u001b[0m                                 Traceback (most recent call last)",
      "\u001b[1;32m~\\AppData\\Local\\Temp\\ipykernel_9576\\2419356105.py\u001b[0m in \u001b[0;36m<module>\u001b[1;34m\u001b[0m\n\u001b[0;32m      1\u001b[0m \u001b[1;31m#3credit card users in Spain\u001b[0m\u001b[1;33m\u001b[0m\u001b[1;33m\u001b[0m\u001b[0m\n\u001b[1;32m----> 2\u001b[1;33m \u001b[0mdf\u001b[0m\u001b[1;33m.\u001b[0m\u001b[0mfilter\u001b[0m\u001b[1;33m(\u001b[0m\u001b[0mdf\u001b[0m\u001b[1;33m[\u001b[0m\u001b[1;34m\"CustLocation\"\u001b[0m\u001b[1;33m]\u001b[0m\u001b[1;33m==\u001b[0m\u001b[1;34m\"MUMBAI\"\u001b[0m\u001b[1;33m)\u001b[0m\u001b[1;33m.\u001b[0m\u001b[0mshow\u001b[0m\u001b[1;33m(\u001b[0m\u001b[1;33m)\u001b[0m\u001b[1;33m\u001b[0m\u001b[1;33m\u001b[0m\u001b[0m\n\u001b[0m",
      "\u001b[1;31mNameError\u001b[0m: name 'df' is not defined"
     ]
    }
   ],
   "source": [
    "#3credit card users in Spain \n",
    "df.filter(df[\"CustLocation\"]==\"MUMBAI\").show()"
   ]
  },
  {
   "cell_type": "code",
   "execution_count": 40,
   "id": "4fdab7aa",
   "metadata": {},
   "outputs": [
    {
     "data": {
      "text/plain": [
       "1916"
      ]
     },
     "execution_count": 40,
     "metadata": {},
     "output_type": "execute_result"
    }
   ],
   "source": [
    "#4\n",
    "df.filter((df[\"CustAccountBalance\"]>100) & (df[\"TransactionAmount\"]<50000)).count()"
   ]
  },
  {
   "cell_type": "code",
   "execution_count": 37,
   "id": "747d40ac",
   "metadata": {},
   "outputs": [
    {
     "name": "stdout",
     "output_type": "stream",
     "text": [
      "+-----------------------+\n",
      "|avg(CustAccountBalance)|\n",
      "+-----------------------+\n",
      "|     105321.79597122302|\n",
      "+-----------------------+\n",
      "\n"
     ]
    }
   ],
   "source": [
    "#5\n",
    "df.filter(df[\"CustGender\"] == \"F\").selectExpr(\"avg(CustAccountBalance)\").show()"
   ]
  },
  {
   "cell_type": "code",
   "execution_count": 45,
   "id": "5ed6783f",
   "metadata": {},
   "outputs": [
    {
     "name": "stdout",
     "output_type": "stream",
     "text": [
      "+------------+----------+-----------+----------+------------+------------------+---------------+---------------+-----------------+----+\n",
      "|TransctionID|CustomerID|CustomerDOB|CustGender|CustLocation|CustAccountBalance|TransactionDate|TransactionTime|TransactionAmount| _c9|\n",
      "+------------+----------+-----------+----------+------------+------------------+---------------+---------------+-----------------+----+\n",
      "|         T37|  C4320949| 25-10-1984|         F|     CHENNAI|            213.06|     03-08-2016|         182915|           1081.0|null|\n",
      "|         T87|  C5931634| 15-08-1995|         F|     CHENNAI|           1942.83|     06-08-2016|         121618|             28.0|null|\n",
      "|        T213|  C8426486| 01-07-1989|         F|     CHENNAI|          13279.12|     07-08-2016|         193120|           323.72|null|\n",
      "|        T294|  C7058034| 06-03-1992|         F|     CHENNAI|         184680.72|     21-10-2016|         150915|             50.0|null|\n",
      "|        T315|  C4637288| 25-10-1993|         F|     CHENNAI|            812.53|     21-10-2016|         150427|             25.0|null|\n",
      "|        T486|  C8013820| 12-07-2004|         F|     CHENNAI|           6661.03|     21-10-2016|         215149|            110.0|null|\n",
      "|        T532|  C9016635| 16-09-1980|         F|     CHENNAI|         447165.79|     21-10-2016|         194106|           1610.0|null|\n",
      "|        T589|  C1620690| 14-04-1979|         F|     CHENNAI|          10096.04|     21-10-2016|         194939|            300.0|null|\n",
      "|        T983|  C4865613|   1/1/1800|         F|     CHENNAI|               0.0|     21-10-2016|         204421|           1500.0|null|\n",
      "|       T1118|  C2932039| 21-03-1991|         F|     CHENNAI|          59147.73|     21-10-2016|         203350|           1254.0|null|\n",
      "|       T1226|  C4911265| 12-04-1954|         F|     CHENNAI|         104755.95|     21-10-2016|         210751|           6401.0|null|\n",
      "|       T1305|  C3236282| 10-10-1991|         F|     CHENNAI|          13148.92|     21-10-2016|         213734|            294.0|null|\n",
      "|       T1369|  C8718978| 01-08-1996|         F|     CHENNAI|          17248.02|     21-10-2016|         195216|            200.0|null|\n",
      "|       T1395|  C4019053| 24-02-1988|         F|     CHENNAI|           6829.19|     21-10-2016|         201209|           1292.0|null|\n",
      "|       T1494|  C8622547| 07-07-1986|         F|     CHENNAI|           7592.69|     21-10-2016|         193002|            430.0|null|\n",
      "|       T1500|  C8822478| 25-09-1991|         F|     CHENNAI|          43721.03|     21-10-2016|         195319|          15960.0|null|\n",
      "|       T1690|  C7817677| 14-07-1989|         F|     CHENNAI|          26101.61|     21-10-2016|         203624|            225.0|null|\n",
      "|       T1696|  C1619820| 13-01-1991|         F|     CHENNAI|          41448.24|     21-10-2016|         204214|            195.0|null|\n",
      "|       T1844|  C8620619| 14-04-1979|         F|     CHENNAI|          10096.04|     21-10-2016|         204721|           258.99|null|\n",
      "|       T1850|  C5529457| 23-01-1997|         F|     CHENNAI|         127345.92|     21-10-2016|         110537|             2.75|null|\n",
      "+------------+----------+-----------+----------+------------+------------------+---------------+---------------+-----------------+----+\n",
      "only showing top 20 rows\n",
      "\n"
     ]
    }
   ],
   "source": [
    "#6\n",
    "df.filter((df[\"CustGender\"]==\"F\") & (df[\"CustLocation\"]==\"CHENNAI\")).show()"
   ]
  },
  {
   "cell_type": "code",
   "execution_count": 42,
   "id": "44f03a82",
   "metadata": {},
   "outputs": [
    {
     "name": "stdout",
     "output_type": "stream",
     "text": [
      "+----------+------------------------+\n",
      "|CustGender|total_transaction_amount|\n",
      "+----------+------------------------+\n",
      "|         F|       877278.5199999997|\n",
      "|      null|                  3449.0|\n",
      "|         M|      2855457.6599999988|\n",
      "+----------+------------------------+\n",
      "\n"
     ]
    }
   ],
   "source": [
    "#7\n",
    "#Find the total transaction amount for each customer according to gender\n",
    "#from pyspark.sql.functions import sum\n",
    "\n",
    "df.groupBy(\"CustGender\").agg(sum(\"TransactionAmount\").alias(\"total_transaction_amount\")).show()\n"
   ]
  },
  {
   "cell_type": "code",
   "execution_count": null,
   "id": "9a169b3a",
   "metadata": {},
   "outputs": [],
   "source": [
    "\n"
   ]
  },
  {
   "cell_type": "code",
   "execution_count": 66,
   "id": "4d231f2a",
   "metadata": {},
   "outputs": [
    {
     "name": "stdout",
     "output_type": "stream",
     "text": [
      "+---------------+------------------------+\n",
      "|TransactionDate|HighestTransactionAmount|\n",
      "+---------------+------------------------+\n",
      "|     05-08-2016|                   519.0|\n",
      "|     09-08-2016|                   599.0|\n",
      "|     01-08-2016|                 1423.11|\n",
      "|     07-08-2016|                   127.8|\n",
      "|     03-08-2016|                  6800.0|\n",
      "|     04-08-2016|                 10885.0|\n",
      "|     21-10-2016|                 23352.0|\n",
      "|     12-08-2016|                   500.0|\n",
      "|     02-08-2016|                  2060.0|\n",
      "|     06-08-2016|                  787.98|\n",
      "+---------------+------------------------+\n",
      "\n"
     ]
    }
   ],
   "source": [
    "#8\n",
    "#PySpark to find the highest transaction amount made in Mumbai on each transaction date in a DataFrame.\n",
    "from pyspark.sql.functions import max\n",
    "\n",
    "# replace \"New York\" with the location you want to filter by\n",
    "highest_transactions = df.filter(df[\"CustLocation\"] == \"MUMBAI\") \\\n",
    "                         .groupBy(\"TransactionDate\") \\\n",
    "                         .agg(max(\"TransactionAmount\").alias(\"HighestTransactionAmount\"))\n",
    "\n",
    "highest_transactions.show()\n",
    "\n"
   ]
  },
  {
   "cell_type": "code",
   "execution_count": 5,
   "id": "6df5309c",
   "metadata": {},
   "outputs": [
    {
     "name": "stdout",
     "output_type": "stream",
     "text": [
      "+----------------------+\n",
      "|avg(TransactionAmount)|\n",
      "+----------------------+\n",
      "|     1862.505074775673|\n",
      "+----------------------+\n",
      "\n"
     ]
    }
   ],
   "source": [
    "#9\n",
    "#Show the average transaction amount:\n",
    "df.select(\"TransactionAmount\").agg({\"TransactionAmount\": \"avg\"}).show()\n"
   ]
  },
  {
   "cell_type": "code",
   "execution_count": 6,
   "id": "471f801b",
   "metadata": {},
   "outputs": [
    {
     "name": "stdout",
     "output_type": "stream",
     "text": [
      "+----------------------+\n",
      "|max(TransactionAmount)|\n",
      "+----------------------+\n",
      "|              137890.0|\n",
      "+----------------------+\n",
      "\n"
     ]
    }
   ],
   "source": [
    "#10\n",
    "#Show the maximum transaction amount\n",
    "df.select(\"TransactionAmount\").agg({\"TransactionAmount\": \"max\"}).show()\n"
   ]
  },
  {
   "cell_type": "code",
   "execution_count": 7,
   "id": "fc2ba443",
   "metadata": {},
   "outputs": [
    {
     "name": "stdout",
     "output_type": "stream",
     "text": [
      "+----------------------+\n",
      "|min(TransactionAmount)|\n",
      "+----------------------+\n",
      "|                   0.0|\n",
      "+----------------------+\n",
      "\n"
     ]
    }
   ],
   "source": [
    "#11\n",
    "#Show the minimum transaction amount:\n",
    "df.select(\"TransactionAmount\").agg({\"TransactionAmount\": \"min\"}).show()\n"
   ]
  },
  {
   "cell_type": "code",
   "execution_count": null,
   "id": "c53aacc7",
   "metadata": {},
   "outputs": [],
   "source": [
    "#12\n",
    "#Show the transaction with the highest amount:\n",
    "df.orderBy(\"TransactionAmount\", ascending=False).first()\n"
   ]
  },
  {
   "cell_type": "code",
   "execution_count": 9,
   "id": "71956316",
   "metadata": {},
   "outputs": [
    {
     "name": "stdout",
     "output_type": "stream",
     "text": [
      "+----------+-----+\n",
      "|CustomerID|count|\n",
      "+----------+-----+\n",
      "|  C8732711|    1|\n",
      "|  C6421261|    1|\n",
      "|  C2939112|    1|\n",
      "|  C8741166|    1|\n",
      "|  C4440931|    1|\n",
      "|  C8116854|    1|\n",
      "|  C4029960|    1|\n",
      "|  C7817677|    1|\n",
      "|  C4240562|    1|\n",
      "|  C2221420|    1|\n",
      "|  C8524541|    1|\n",
      "|  C8017865|    1|\n",
      "|  C1021343|    1|\n",
      "|  C4814390|    1|\n",
      "|  C7330163|    1|\n",
      "|  C8640163|    1|\n",
      "|  C4127485|    1|\n",
      "|  C2440683|    1|\n",
      "|  C7034179|    1|\n",
      "|  C3225470|    1|\n",
      "+----------+-----+\n",
      "only showing top 20 rows\n",
      "\n"
     ]
    }
   ],
   "source": [
    "#13\n",
    "#Show the total number of transactions for each customer:\n",
    "df.groupBy(\"CustomerID\").count().show()\n"
   ]
  },
  {
   "cell_type": "code",
   "execution_count": 10,
   "id": "5ac7330a",
   "metadata": {},
   "outputs": [
    {
     "name": "stdout",
     "output_type": "stream",
     "text": [
      "+----------+----------------------+\n",
      "|CustomerID|sum(TransactionAmount)|\n",
      "+----------+----------------------+\n",
      "|  C8732711|                1423.0|\n",
      "|  C6421261|                5555.0|\n",
      "|  C2939112|                 321.0|\n",
      "|  C8741166|               1512.75|\n",
      "|  C4440931|                 200.0|\n",
      "|  C8116854|                 270.0|\n",
      "|  C4029960|                  50.0|\n",
      "|  C7817677|                 225.0|\n",
      "|  C4240562|                 446.0|\n",
      "|  C2221420|                 618.0|\n",
      "|  C8524541|                 445.0|\n",
      "|  C8017865|                 142.0|\n",
      "|  C1021343|                 467.0|\n",
      "|  C4814390|               47290.0|\n",
      "|  C7330163|                 730.0|\n",
      "|  C8640163|                1721.0|\n",
      "|  C4127485|                1250.0|\n",
      "|  C2440683|                 440.0|\n",
      "|  C7034179|                  15.0|\n",
      "|  C3225470|                 160.0|\n",
      "+----------+----------------------+\n",
      "only showing top 20 rows\n",
      "\n"
     ]
    }
   ],
   "source": [
    "#14\n",
    "#Show the total transaction amount for each customer:\n",
    "df.groupBy(\"CustomerID\").agg({\"TransactionAmount\": \"sum\"}).show()\n"
   ]
  },
  {
   "cell_type": "code",
   "execution_count": 11,
   "id": "e064a344",
   "metadata": {},
   "outputs": [
    {
     "name": "stdout",
     "output_type": "stream",
     "text": [
      "+----------+----------------------+\n",
      "|CustGender|avg(TransactionAmount)|\n",
      "+----------+----------------------+\n",
      "|         F|    1577.8390647482008|\n",
      "|      null|                3449.0|\n",
      "|         M|    1970.6402070393367|\n",
      "+----------+----------------------+\n",
      "\n"
     ]
    }
   ],
   "source": [
    "#15\n",
    "#Show the average transaction amount for each customer gender:\n",
    "df.groupBy(\"CustGender\").agg({\"TransactionAmount\": \"avg\"}).show()\n"
   ]
  },
  {
   "cell_type": "code",
   "execution_count": 12,
   "id": "ab55f87e",
   "metadata": {},
   "outputs": [
    {
     "name": "stdout",
     "output_type": "stream",
     "text": [
      "+------------+----------+-----------+----------+------------+------------------+---------------+---------------+-----------------+---+\n",
      "|TransctionID|CustomerID|CustomerDOB|CustGender|CustLocation|CustAccountBalance|TransactionDate|TransactionTime|TransactionAmount|_c9|\n",
      "+------------+----------+-----------+----------+------------+------------------+---------------+---------------+-----------------+---+\n",
      "+------------+----------+-----------+----------+------------+------------------+---------------+---------------+-----------------+---+\n",
      "\n"
     ]
    }
   ],
   "source": [
    "#16\n",
    "#Show the transactions that occurred in a specific date range:\n",
    "from pyspark.sql.functions import col\n",
    "df.filter((col(\"TransactionDate\") >= \"2023-01-01\") & (col(\"TransactionDate\") <= \"2023-02-28\")).show()\n"
   ]
  },
  {
   "cell_type": "code",
   "execution_count": 13,
   "id": "0b7259bb",
   "metadata": {},
   "outputs": [
    {
     "name": "stdout",
     "output_type": "stream",
     "text": [
      "+------------+----------+-----------+----------+--------------------+------------------+---------------+---------------+-----------------+----+\n",
      "|TransctionID|CustomerID|CustomerDOB|CustGender|        CustLocation|CustAccountBalance|TransactionDate|TransactionTime|TransactionAmount| _c9|\n",
      "+------------+----------+-----------+----------+--------------------+------------------+---------------+---------------+-----------------+----+\n",
      "|       T1419|  C5717433|   1/1/1800|         F|              MOHALI|     1.413119502E7|     21-10-2016|         204645|           2411.0|null|\n",
      "|       T2002|  C7728829| 27-10-1980|         M|              MUMBAI|        3659161.33|     21-10-2016|         204521|           5997.0|null|\n",
      "|       T1058|  C5442656| 02-01-1986|         M|              BOKARO|         3482113.5|     21-10-2016|         205137|           5500.0|null|\n",
      "|        T526|  C5072857|   1/1/1800|         M|           NEW DELHI|        3053688.58|     21-10-2016|         204225|           1088.0|null|\n",
      "|        T579|  C7732922| 17-05-1968|         M|           NEW DELHI|        2916683.97|     21-10-2016|         221816|           6199.0|null|\n",
      "|        T759|  C6330852|   1/1/1800|         M|              MUMBAI|        2712481.26|     21-10-2016|         202946|           5900.0|null|\n",
      "|       T1089|  C3228213| 07-07-1962|         M|N M JOSHI MARG LO...|        2494964.39|     21-10-2016|         163526|           341.87|null|\n",
      "|       T1488|  C2828226| 07-07-1962|         M|N M JOSHI MARG LO...|        2494964.39|     21-10-2016|         163238|          1659.69|null|\n",
      "|       T1765|  C8922138| 23-11-1959|         M|           NEW DELHI|        2006295.96|     21-10-2016|         200024|          29600.0|null|\n",
      "|       T1049|  C7329287|   1/1/1800|         F|           NEW DELHI|        1971218.11|     21-10-2016|         203509|           3592.0|null|\n",
      "|       T1778|  C5026617| 05-05-1980|         M|               THANE|        1883047.15|     21-10-2016|         223021|           2825.0|null|\n",
      "|        T207|  C7675278|   1/1/1800|         M|               NOIDA|        1867210.51|     07-08-2016|         144436|         137890.0|null|\n",
      "|       T1569|  C8712183| 22-12-1936|         M|              MUMBAI|        1773111.86|     21-10-2016|         214521|           1290.0|null|\n",
      "|       T1990|  C8317026|   1/1/1800|         M|    KHAR WEST MUMBAI|        1599263.99|     21-10-2016|         204157|           1125.0|null|\n",
      "|        T906|  C3414431| 01-01-1980|         M|          CHANDIGARH|        1586508.61|     21-10-2016|         205750|         100000.0|null|\n",
      "|       T1270|  C7814446| 01-01-1980|         M|          CHANDIGARH|        1586508.61|     21-10-2016|         205715|         100000.0|null|\n",
      "|       T1207|  C8842737| 28-10-1986|         M|               ANAND|        1577984.15|     21-10-2016|         203202|           1758.4|null|\n",
      "|       T1520|  C1155983| 09-09-1985|         M|               DELHI|        1572828.44|     21-10-2016|         200312|            795.0|null|\n",
      "|        T693|  C6993164| 21-05-1975|         M|              MUMBAI|        1473749.77|     21-10-2016|         194308|            209.0|null|\n",
      "|        T367|  C6784890| 10-05-1971|         M|               NOIDA|        1441016.64|     21-10-2016|         203410|          60000.0|null|\n",
      "+------------+----------+-----------+----------+--------------------+------------------+---------------+---------------+-----------------+----+\n",
      "only showing top 20 rows\n",
      "\n"
     ]
    }
   ],
   "source": [
    "#17\n",
    "#Show the customers with the highest account balance:\n",
    "df.orderBy(\"CustAccountBalance\", ascending=False).show()\n"
   ]
  },
  {
   "cell_type": "code",
   "execution_count": 14,
   "id": "486e5e7d",
   "metadata": {},
   "outputs": [
    {
     "name": "stdout",
     "output_type": "stream",
     "text": [
      "+--------------------+----------------------+\n",
      "|        CustLocation|sum(TransactionAmount)|\n",
      "+--------------------+----------------------+\n",
      "|             GWALIOR|                2350.0|\n",
      "|              BOKARO|                6335.0|\n",
      "|            KALYAN W|                 137.7|\n",
      "|    KALYAN (W) THANE|                3943.0|\n",
      "|          RAI BARELI|                  50.0|\n",
      "|HOSPITAL BEHIND C...|                  85.0|\n",
      "| PUMP HINJEWADI PUNE|                 200.0|\n",
      "|JOGESHWARI (E) MU...|                1099.0|\n",
      "|               MANDI|                  64.0|\n",
      "|           DARBHANGA|                  75.0|\n",
      "|       SRIPERUMBUDUR|                2625.0|\n",
      "|   PASCHIM MEDINIPUR|                 363.0|\n",
      "|            RAMNAGAR|                1920.0|\n",
      "|             KOLKATA|             126947.97|\n",
      "|         BULANDSHAHR|                2729.0|\n",
      "|              GUNTUR|                 956.0|\n",
      "|              INDORE|              13536.98|\n",
      "|   SOUTH 24 PARGANAS|                  55.0|\n",
      "|           MANGALORE|                2395.0|\n",
      "|              JORHAT|                 399.0|\n",
      "+--------------------+----------------------+\n",
      "only showing top 20 rows\n",
      "\n"
     ]
    }
   ],
   "source": [
    "#18\n",
    "#Show the total transaction amount for each location:\n",
    "df.groupBy(\"CustLocation\").agg({\"TransactionAmount\": \"sum\"}).show()\n"
   ]
  },
  {
   "cell_type": "code",
   "execution_count": 16,
   "id": "c047a33b",
   "metadata": {},
   "outputs": [
    {
     "name": "stdout",
     "output_type": "stream",
     "text": [
      "+----------+----------------------+-------------------+\n",
      "|CustomerID|sum(TransactionAmount)|count(TransctionID)|\n",
      "+----------+----------------------+-------------------+\n",
      "|  C8732711|                1423.0|                  1|\n",
      "|  C6421261|                5555.0|                  1|\n",
      "|  C2939112|                 321.0|                  1|\n",
      "|  C8741166|               1512.75|                  1|\n",
      "|  C4440931|                 200.0|                  1|\n",
      "|  C8116854|                 270.0|                  1|\n",
      "|  C4029960|                  50.0|                  1|\n",
      "|  C7817677|                 225.0|                  1|\n",
      "|  C4240562|                 446.0|                  1|\n",
      "|  C2221420|                 618.0|                  1|\n",
      "|  C8524541|                 445.0|                  1|\n",
      "|  C8017865|                 142.0|                  1|\n",
      "|  C1021343|                 467.0|                  1|\n",
      "|  C4814390|               47290.0|                  1|\n",
      "|  C7330163|                 730.0|                  1|\n",
      "|  C8640163|                1721.0|                  1|\n",
      "|  C4127485|                1250.0|                  1|\n",
      "|  C2440683|                 440.0|                  1|\n",
      "|  C7034179|                  15.0|                  1|\n",
      "|  C3225470|                 160.0|                  1|\n",
      "+----------+----------------------+-------------------+\n",
      "only showing top 20 rows\n",
      "\n"
     ]
    }
   ],
   "source": [
    "#19\n",
    "#Show the total number of transactions and the average transaction amount for each customer location:\n",
    "df.groupBy(\"CustomerID\").agg({\"TransactionAmount\": \"sum\", \"TransctionID\": \"count\"}).show()\n"
   ]
  },
  {
   "cell_type": "code",
   "execution_count": 18,
   "id": "aa1116f3",
   "metadata": {},
   "outputs": [
    {
     "name": "stdout",
     "output_type": "stream",
     "text": [
      "+------------+----------+-----------+----------+--------------------+------------------+---------------+---------------+-----------------+----+\n",
      "|TransctionID|CustomerID|CustomerDOB|CustGender|        CustLocation|CustAccountBalance|TransactionDate|TransactionTime|TransactionAmount| _c9|\n",
      "+------------+----------+-----------+----------+--------------------+------------------+---------------+---------------+-----------------+----+\n",
      "|          T9|  C8536061| 19-04-1988|         F|             GURGAON|          14906.96|     02-08-2016|         192825|            833.0|null|\n",
      "|         T10|  C6638934| 22-06-1984|         M|              MUMBAI|           4279.22|     02-08-2016|         192446|           289.11|null|\n",
      "|         T22|  C4511244| 31-08-1989|         F|        SECUNDERABAD|           4470.15|     03-08-2016|         105329|             27.0|null|\n",
      "|         T23|  C7018081|   1/1/1800|         M|WAYS PANCHKUVA AH...|            143.07|     03-08-2016|         104718|            110.0|null|\n",
      "|         T49|  C6427687| 04-07-1981|         M|       MUZAFFARNAGAR|           2162.36|     02-08-2016|         100019|             55.0|null|\n",
      "|         T63|  C1130989| 22-10-1990|         M|                PUNE|            250.26|     05-08-2016|         105850|             60.0|null|\n",
      "|         T67|  C8417574| 17-07-1990|         F|              MUMBAI|         224685.48|     04-08-2016|          12648|           339.92|null|\n",
      "|         T75|  C2016883| 20-08-1994|         F|             NELLORE|           5922.11|     01-08-2016|         194114|            507.0|null|\n",
      "|         T76|  C5930363| 20-08-1994|         M|              ADIPUR|              2.75|     01-08-2016|         194117|            800.0|null|\n",
      "|         T77|  C1021343| 23-02-1980|         M|              MUMBAI|         134698.04|     01-08-2016|         194733|            467.0|null|\n",
      "|        T105|  C7924053| 15-04-1971|         F|             KOLKATA|          77587.52|     06-08-2016|         185409|            500.0|null|\n",
      "|        T113|  C3911031| 16-10-1989|         F|            KARUR DT|         116592.57|     05-08-2016|         110647|           1480.0|null|\n",
      "|        T114|  C7641090| 15-06-1991|         M|            CHITTO0R|            8588.5|     05-08-2016|         110551|              1.0|null|\n",
      "|        T115|  C7317029| 19-03-1992|         M|      K V RANGAREDDY|             33.01|     05-08-2016|         105532|             40.0|null|\n",
      "|        T125|  C8441772| 20-04-1982|         F|             GURGAON|          51939.21|     09-08-2016|         194915|            457.0|null|\n",
      "|        T126|  C2024260| 15-01-1987|         M|             PIMPALI|          87839.68|     09-08-2016|         194916|           1747.0|null|\n",
      "|        T133|  C7614444| 03-04-1991|         M|   SOUTH 24 PARGANAS|             19.83|     08-08-2016|         110319|             40.0|null|\n",
      "|        T137|  C1537466| 25-10-1990|         F|MIRABHAYANDER THA...|          12783.53|     04-08-2016|         100850|             50.0|null|\n",
      "|        T148|  C5034425| 09-11-1989|         M|               DELHI|          54033.57|     09-08-2016|          25955|            360.0|null|\n",
      "|        T152|  C3334638|   1/1/1800|         M|                PUNE|             700.0|     09-08-2016|          24912|           1500.0|null|\n",
      "+------------+----------+-----------+----------+--------------------+------------------+---------------+---------------+-----------------+----+\n",
      "only showing top 20 rows\n",
      "\n"
     ]
    }
   ],
   "source": [
    "#20\n",
    "#Show the transactions that occurred between two specific times of day:\n",
    "from pyspark.sql.functions import col, from_unixtime, hour\n",
    "\n",
    "df.filter((hour(from_unixtime(col(\"TransactionTime\"), \"yyyy-MM-dd HH:mm:ss\")) >= 9) & (hour(from_unixtime(col(\"TransactionTime\"), \"yyyy-MM-dd HH:mm:ss\")) <= 12)).show()\n"
   ]
  },
  {
   "cell_type": "code",
   "execution_count": 26,
   "id": "5f71419a",
   "metadata": {},
   "outputs": [
    {
     "name": "stdout",
     "output_type": "stream",
     "text": [
      "+----------+--------------------+------------------+\n",
      "|CustomerID|        CustLocation|CustAccountBalance|\n",
      "+----------+--------------------+------------------+\n",
      "|  C1536588|            ITANAGAR|           53609.2|\n",
      "|  C6121429|NO 3 KALYANI NAGA...|           2934.22|\n",
      "|  C7018081|WAYS PANCHKUVA AH...|            143.07|\n",
      "|  C5338459|             DHANBAD|         113238.74|\n",
      "|  C5120181|             MUKTSAR|           2477.42|\n",
      "|  C5838935|             SOCORRO|           58406.7|\n",
      "|  C7923455|ANDHERI (EAST) MU...|           5810.82|\n",
      "|  C1289591|                KOTA|         282455.64|\n",
      "|  C7542443|      K V RANGAREDDY|          25222.91|\n",
      "|  C6427687|       MUZAFFARNAGAR|           2162.36|\n",
      "|  C3932235|        SHAHJAHANPUR|             91.66|\n",
      "|  C7415323|  DIST RAIGAD PANVEL|          10253.21|\n",
      "|  C6730370|               GODDA|          13968.07|\n",
      "|  C8932791|    REWARI (HARYANA)|           5511.73|\n",
      "|  C5930363|              ADIPUR|              2.75|\n",
      "|  C8640537|            BATHINDA|           2988.21|\n",
      "|  C6040326|            JABALPUR|          35990.54|\n",
      "|  C4226473|            KASHIPUR|           4001.86|\n",
      "|  C3232257|                ETAH|             78.33|\n",
      "|  C7833983|             TIRUPUR|           2298.51|\n",
      "+----------+--------------------+------------------+\n",
      "only showing top 20 rows\n",
      "\n"
     ]
    }
   ],
   "source": [
    "#21\n",
    "df.createOrReplaceTempView(\"transactions\")\n",
    "spark.sql(\"SELECT t1.CustomerID, t1.CustLocation, t1.CustAccountBalance FROM transactions t1 INNER JOIN (SELECT CustLocation, MAX(CustAccountBalance) AS MaxBalance FROM transactions GROUP BY CustLocation) t2 ON t1.CustLocation = t2.CustLocation AND t1.CustAccountBalance = t2.MaxBalance\").show()\n"
   ]
  },
  {
   "cell_type": "code",
   "execution_count": 28,
   "id": "7883c0a6",
   "metadata": {},
   "outputs": [
    {
     "data": {
      "text/plain": [
       "0"
      ]
     },
     "execution_count": 28,
     "metadata": {},
     "output_type": "execute_result"
    }
   ],
   "source": [
    "#22\n",
    "#Find the customers who have made transactions on weekends:\n",
    "spark.sql(\"SELECT * FROM transactions WHERE DAYOFWEEK(TransactionDate) IN (1, 7)\").count()\n"
   ]
  },
  {
   "cell_type": "code",
   "execution_count": 29,
   "id": "83720ea4",
   "metadata": {},
   "outputs": [
    {
     "name": "stdout",
     "output_type": "stream",
     "text": [
      "+---------+------------------+\n",
      "|DayOfWeek|       TotalAmount|\n",
      "+---------+------------------+\n",
      "|     null|3736185.1799999997|\n",
      "+---------+------------------+\n",
      "\n"
     ]
    }
   ],
   "source": [
    "#23\n",
    "#Get the total transaction amount for each day of the week:\n",
    "spark.sql(\"SELECT DAYOFWEEK(TransactionDate) AS DayOfWeek, SUM(TransactionAmount) AS TotalAmount FROM transactions GROUP BY DAYOFWEEK(TransactionDate)\").show()\n"
   ]
  },
  {
   "cell_type": "code",
   "execution_count": 30,
   "id": "eb046c01",
   "metadata": {},
   "outputs": [
    {
     "name": "stdout",
     "output_type": "stream",
     "text": [
      "+------------+----------+-----------+----------+------------+------------------+---------------+---------------+-----------------+----+\n",
      "|TransctionID|CustomerID|CustomerDOB|CustGender|CustLocation|CustAccountBalance|TransactionDate|TransactionTime|TransactionAmount| _c9|\n",
      "+------------+----------+-----------+----------+------------+------------------+---------------+---------------+-----------------+----+\n",
      "|       T1438|  C1841937|   1/1/1800|         M|      KHANNA|          13226.16|     21-10-2016|         210849|            490.0|null|\n",
      "+------------+----------+-----------+----------+------------+------------------+---------------+---------------+-----------------+----+\n",
      "\n"
     ]
    }
   ],
   "source": [
    "#24\n",
    "#Find the customers who have made transactions larger than their average transaction amount:\n",
    "spark.sql(\"SELECT t1.* FROM transactions t1 INNER JOIN (SELECT CustomerID, AVG(TransactionAmount) AS AvgAmount FROM transactions GROUP BY CustomerID) t2 ON t1.CustomerID = t2.CustomerID WHERE t1.TransactionAmount > t2.AvgAmount\").show()\n"
   ]
  },
  {
   "cell_type": "code",
   "execution_count": 31,
   "id": "6618b947",
   "metadata": {},
   "outputs": [
    {
     "name": "stdout",
     "output_type": "stream",
     "text": [
      "+------------+----------+-----------+----------+------------+------------------+---------------+---------------+-----------------+---+\n",
      "|TransctionID|CustomerID|CustomerDOB|CustGender|CustLocation|CustAccountBalance|TransactionDate|TransactionTime|TransactionAmount|_c9|\n",
      "+------------+----------+-----------+----------+------------+------------------+---------------+---------------+-----------------+---+\n",
      "+------------+----------+-----------+----------+------------+------------------+---------------+---------------+-----------------+---+\n",
      "\n"
     ]
    }
   ],
   "source": [
    "#25\n",
    "#Find the customers who have made transactions on consecutive days:\n",
    "spark.sql(\"SELECT t1.* FROM transactions t1 INNER JOIN transactions t2 ON t1.CustomerID = t2.CustomerID AND DATEDIFF(t1.TransactionDate, t2.TransactionDate) = 1\").show()\n"
   ]
  },
  {
   "cell_type": "code",
   "execution_count": null,
   "id": "321a1aea",
   "metadata": {},
   "outputs": [
    {
     "name": "stdout",
     "output_type": "stream",
     "text": [
      "Choose a query to run:\n",
      "1. Customers with account balance > 100:\n",
      "2. Customers with transaction amount < 5000:\n",
      "3. Distinct customer genders:\n",
      "4. Customers with account balance > 100 and transaction amount < 50000\n",
      "5. Average account balance for female customers\n",
      "6. Female customers from Chennai\n",
      "7. Total transaction amount for each customer gender\n",
      "8. Highest transaction amount made in Mumbai on each transaction date\n",
      "9. Average transaction amount\n",
      "10. Maximum transaction amount\n",
      "11. Minimum transaction amount\n",
      "12. Transaction with the highest amount\n",
      "13. Count of transactions for each customer\n",
      "14. Total transaction amount for each customer\n",
      "15. Average transaction amount for each customer gender\n",
      "16. Transactions between Jan 1, 2023 and Feb 28, 2023\n",
      "17. Customers sorted by account balance\n",
      "18. Total transaction amount for each location\n",
      "19. Total transaction amount and count of transactions for each customer\n",
      "20. Transactions between 9:00 AM and 12:00 PM\n",
      "21. Customers with the highest account balance for each location\n",
      "22. Count of transactions on weekends\n",
      "23. Total transaction amount for each day of the week\n",
      "24. Transactions with amount greater than average transaction amount for each customer\n",
      "25. Transactions made on consecutive days by the same customer\n",
      "0. Exit\n",
      "Enter your choice: 10\n",
      "+----------------------+\n",
      "|max(TransactionAmount)|\n",
      "+----------------------+\n",
      "|                   999|\n",
      "+----------------------+\n",
      "\n",
      "Choose a query to run:\n",
      "1. Customers with account balance > 100:\n",
      "2. Customers with transaction amount < 5000:\n",
      "3. Distinct customer genders:\n",
      "4. Customers with account balance > 100 and transaction amount < 50000\n",
      "5. Average account balance for female customers\n",
      "6. Female customers from Chennai\n",
      "7. Total transaction amount for each customer gender\n",
      "8. Highest transaction amount made in Mumbai on each transaction date\n",
      "9. Average transaction amount\n",
      "10. Maximum transaction amount\n",
      "11. Minimum transaction amount\n",
      "12. Transaction with the highest amount\n",
      "13. Count of transactions for each customer\n",
      "14. Total transaction amount for each customer\n",
      "15. Average transaction amount for each customer gender\n",
      "16. Transactions between Jan 1, 2023 and Feb 28, 2023\n",
      "17. Customers sorted by account balance\n",
      "18. Total transaction amount for each location\n",
      "19. Total transaction amount and count of transactions for each customer\n",
      "20. Transactions between 9:00 AM and 12:00 PM\n",
      "21. Customers with the highest account balance for each location\n",
      "22. Count of transactions on weekends\n",
      "23. Total transaction amount for each day of the week\n",
      "24. Transactions with amount greater than average transaction amount for each customer\n",
      "25. Transactions made on consecutive days by the same customer\n",
      "0. Exit\n",
      "Enter your choice: 9\n",
      "+----------------------+\n",
      "|avg(TransactionAmount)|\n",
      "+----------------------+\n",
      "|     1862.505074775673|\n",
      "+----------------------+\n",
      "\n",
      "Choose a query to run:\n",
      "1. Customers with account balance > 100:\n",
      "2. Customers with transaction amount < 5000:\n",
      "3. Distinct customer genders:\n",
      "4. Customers with account balance > 100 and transaction amount < 50000\n",
      "5. Average account balance for female customers\n",
      "6. Female customers from Chennai\n",
      "7. Total transaction amount for each customer gender\n",
      "8. Highest transaction amount made in Mumbai on each transaction date\n",
      "9. Average transaction amount\n",
      "10. Maximum transaction amount\n",
      "11. Minimum transaction amount\n",
      "12. Transaction with the highest amount\n",
      "13. Count of transactions for each customer\n",
      "14. Total transaction amount for each customer\n",
      "15. Average transaction amount for each customer gender\n",
      "16. Transactions between Jan 1, 2023 and Feb 28, 2023\n",
      "17. Customers sorted by account balance\n",
      "18. Total transaction amount for each location\n",
      "19. Total transaction amount and count of transactions for each customer\n",
      "20. Transactions between 9:00 AM and 12:00 PM\n",
      "21. Customers with the highest account balance for each location\n",
      "22. Count of transactions on weekends\n",
      "23. Total transaction amount for each day of the week\n",
      "24. Transactions with amount greater than average transaction amount for each customer\n",
      "25. Transactions made on consecutive days by the same customer\n",
      "0. Exit\n",
      "Enter your choice: 11\n",
      "+----------------------+\n",
      "|min(TransactionAmount)|\n",
      "+----------------------+\n",
      "|                     0|\n",
      "+----------------------+\n",
      "\n",
      "Choose a query to run:\n",
      "1. Customers with account balance > 100:\n",
      "2. Customers with transaction amount < 5000:\n",
      "3. Distinct customer genders:\n",
      "4. Customers with account balance > 100 and transaction amount < 50000\n",
      "5. Average account balance for female customers\n",
      "6. Female customers from Chennai\n",
      "7. Total transaction amount for each customer gender\n",
      "8. Highest transaction amount made in Mumbai on each transaction date\n",
      "9. Average transaction amount\n",
      "10. Maximum transaction amount\n",
      "11. Minimum transaction amount\n",
      "12. Transaction with the highest amount\n",
      "13. Count of transactions for each customer\n",
      "14. Total transaction amount for each customer\n",
      "15. Average transaction amount for each customer gender\n",
      "16. Transactions between Jan 1, 2023 and Feb 28, 2023\n",
      "17. Customers sorted by account balance\n",
      "18. Total transaction amount for each location\n",
      "19. Total transaction amount and count of transactions for each customer\n",
      "20. Transactions between 9:00 AM and 12:00 PM\n",
      "21. Customers with the highest account balance for each location\n",
      "22. Count of transactions on weekends\n",
      "23. Total transaction amount for each day of the week\n",
      "24. Transactions with amount greater than average transaction amount for each customer\n",
      "25. Transactions made on consecutive days by the same customer\n",
      "0. Exit\n",
      "Enter your choice: 12\n",
      "Choose a query to run:\n",
      "1. Customers with account balance > 100:\n",
      "2. Customers with transaction amount < 5000:\n",
      "3. Distinct customer genders:\n",
      "4. Customers with account balance > 100 and transaction amount < 50000\n",
      "5. Average account balance for female customers\n",
      "6. Female customers from Chennai\n",
      "7. Total transaction amount for each customer gender\n",
      "8. Highest transaction amount made in Mumbai on each transaction date\n",
      "9. Average transaction amount\n",
      "10. Maximum transaction amount\n",
      "11. Minimum transaction amount\n",
      "12. Transaction with the highest amount\n",
      "13. Count of transactions for each customer\n",
      "14. Total transaction amount for each customer\n",
      "15. Average transaction amount for each customer gender\n",
      "16. Transactions between Jan 1, 2023 and Feb 28, 2023\n",
      "17. Customers sorted by account balance\n",
      "18. Total transaction amount for each location\n",
      "19. Total transaction amount and count of transactions for each customer\n",
      "20. Transactions between 9:00 AM and 12:00 PM\n",
      "21. Customers with the highest account balance for each location\n",
      "22. Count of transactions on weekends\n",
      "23. Total transaction amount for each day of the week\n",
      "24. Transactions with amount greater than average transaction amount for each customer\n",
      "25. Transactions made on consecutive days by the same customer\n",
      "0. Exit\n"
     ]
    }
   ],
   "source": [
    "import pyspark.sql.functions as F\n",
    "from pyspark.sql.functions import sum, avg, count, max, min, col, from_unixtime, hour, dayofweek, datediff\n",
    "\n",
    "# create SparkSession object\n",
    "spark = SparkSession.builder.appName(\"TransactionAnalysis\").getOrCreate()\n",
    "\n",
    "# read CSV file as Spark DataFrame\n",
    "df = spark.read.csv(\"bank_segdata.csv\", header=True)\n",
    "\n",
    "# function to display menu options\n",
    "def display_menu():\n",
    "    print(\"Choose a query to run:\")\n",
    "    print(\"1. Customers with account balance > 100:\")\n",
    "    print(\"2. Customers with transaction amount < 5000:\")\n",
    "    print(\"3. Distinct customer genders:\")\n",
    "    print(\"4. Customers with account balance > 100 and transaction amount < 50000\")\n",
    "    print(\"5. Average account balance for female customers\")\n",
    "    print(\"6. Female customers from Chennai\")\n",
    "    print(\"7. Total transaction amount for each customer gender\")\n",
    "    print(\"8. Highest transaction amount made in Mumbai on each transaction date\")\n",
    "    print(\"9. Average transaction amount\")\n",
    "    print(\"10. Maximum transaction amount\")\n",
    "    print(\"11. Minimum transaction amount\")\n",
    "    print(\"12. Transaction with the highest amount\")\n",
    "    print(\"13. Count of transactions for each customer\")\n",
    "    print(\"14. Total transaction amount for each customer\")\n",
    "    print(\"15. Average transaction amount for each customer gender\")\n",
    "    print(\"16. Transactions between Jan 1, 2023 and Feb 28, 2023\")\n",
    "    print(\"17. Customers sorted by account balance\")\n",
    "    print(\"18. Total transaction amount for each location\")\n",
    "    print(\"19. Total transaction amount and count of transactions for each customer\")\n",
    "    print(\"20. Transactions between 9:00 AM and 12:00 PM\")\n",
    "    print(\"21. Customers with the highest account balance for each location\")\n",
    "    print(\"22. Count of transactions on weekends\")\n",
    "    print(\"23. Total transaction amount for each day of the week\")\n",
    "    print(\"24. Transactions with amount greater than average transaction amount for each customer\")\n",
    "    print(\"25. Transactions made on consecutive days by the same customer\")\n",
    "    print(\"0. Exit\")\n",
    "\n",
    "# loop to display menu and execute selected query\n",
    "while True:\n",
    "    display_menu()\n",
    "    choice = int(input(\"Enter your choice: \"))\n",
    "\n",
    "    if choice == 0:\n",
    "        print(\"Exiting program...\")\n",
    "        break\n",
    "\n",
    "    elif choice == 1:\n",
    "        result = df.filter(df[\"CustAccountBalance\"] < 100).count()\n",
    "        print(f\"Number of customers with account balance < 100: {result}\")\n",
    "\n",
    "    elif choice == 2:\n",
    "        result = df.filter(df[\"TransactionAmount\"] > 50000).select(\"CustomerID\").show()\n",
    "\n",
    "    elif choice == 3:\n",
    "        result = df.select(\"CustGender\").distinct().show()\n",
    "\n",
    "    elif choice == 4:\n",
    "        result = df.filter((df[\"CustAccountBalance\"] > 100) & (df[\"TransactionAmount\"] < 50000)).count()\n",
    "        print(f\"Number of customers with account balance > 1000 and transaction amount < 10000: {result}\")\n",
    "\n",
    "    elif choice == 5:\n",
    "        result = df.filter(df[\"CustGender\"] == \"F\").selectExpr(\"avg(CustAccountBalance)\").show()\n",
    "\n",
    "    elif choice == 6:\n",
    "        result = df.filter((df[\"CustGender\"] == \"F\") & (df[\"CustLocation\"] == \"CHENNAI\")).show()\n",
    "\n",
    "    elif choice == 7:\n",
    "        gender_totals = df.groupBy(\"CustGender\").agg(sum(\"TransactionAmount\").alias(\"total_transaction_amount\"))\n",
    "        gender_totals.show()\n",
    "        \n",
    "    elif choice == 8:\n",
    "        highest_transactions = df.filter(df[\"CustLocation\"] == \"MUMBAI\") \\\n",
    "                         .groupBy(\"TransactionDate\") \\\n",
    "                         .agg(max(\"TransactionAmount\").alias(\"HighestTransactionAmount\"))\n",
    "\n",
    "        highest_transactions.show()\n",
    "    elif choice == 9:\n",
    "        df.select(\"TransactionAmount\").agg({\"TransactionAmount\": \"avg\"}).show()\n",
    "        \n",
    "    elif choice == 10:\n",
    "        df.select(\"TransactionAmount\").agg({\"TransactionAmount\": \"max\"}).show()\n",
    "\n",
    "    elif choice == 11:\n",
    "        df.select(\"TransactionAmount\").agg({\"TransactionAmount\": \"min\"}).show()\n",
    "        \n",
    "    elif choice == 12:\n",
    "        df.orderBy(\"TransactionAmount\", ascending=False).first()\n",
    "        \n",
    "    elif choice == 13:\n",
    "        df.groupBy(\"CustomerID\").count().show() \n",
    "        \n",
    "    elif choice == 14:\n",
    "        df.groupBy(\"CustomerID\").agg({\"TransactionAmount\": \"sum\"}).show()\n",
    "        \n",
    "    elif choice == 15:\n",
    "        df.groupBy(\"CustGender\").agg({\"TransactionAmount\": \"avg\"}).show()\n",
    "        \n",
    "    elif choice == 16:\n",
    "        from pyspark.sql.functions import col\n",
    "        df.filter((col(\"TransactionDate\") >= \"2023-01-01\") & (col(\"TransactionDate\") <= \"2023-02-28\")).show()\n",
    "    \n",
    "    elif choice == 17:    \n",
    "        df.orderBy(\"CustAccountBalance\", ascending=False).show()\n",
    "    \n",
    "    elif choice == 18:\n",
    "        df.groupBy(\"CustLocation\").agg({\"TransactionAmount\": \"sum\"}).show()\n",
    "        \n",
    "    elif choice == 19:\n",
    "        df.groupBy(\"CustomerID\").agg({\"TransactionAmount\": \"sum\", \"TransctionID\": \"count\"}).show()\n",
    "        \n",
    "    elif choice == 20:\n",
    "        from pyspark.sql.functions import col, from_unixtime, hour\n",
    "        df.filter((hour(from_unixtime(col(\"TransactionTime\"), \"yyyy-MM-dd HH:mm:ss\")) >= 9) & (hour(from_unixtime(col(\"TransactionTime\"), \"yyyy-MM-dd HH:mm:ss\")) <= 12)).show()\n",
    "        \n",
    "    elif choice == 21:\n",
    "        df.createOrReplaceTempView(\"transactions\")\n",
    "        spark.sql(\"SELECT t1.CustomerID, t1.CustLocation, t1.CustAccountBalance FROM transactions t1 INNER JOIN (SELECT CustLocation, MAX(CustAccountBalance) AS MaxBalance FROM transactions GROUP BY CustLocation) t2 ON t1.CustLocation = t2.CustLocation AND t1.CustAccountBalance = t2.MaxBalance\").show()\n",
    "        \n",
    "    elif choice == 22:\n",
    "        spark.sql(\"SELECT * FROM transactions WHERE DAYOFWEEK(TransactionDate) IN (1, 7)\").count()\n",
    "     \n",
    "    elif choice == 23:\n",
    "        spark.sql(\"SELECT DAYOFWEEK(TransactionDate) AS DayOfWeek, SUM(TransactionAmount) AS TotalAmount FROM transactions GROUP BY DAYOFWEEK(TransactionDate)\").show()\n",
    "    \n",
    "    elif choice == 24:\n",
    "        spark.sql(\"SELECT t1.* FROM transactions t1 INNER JOIN (SELECT CustomerID, AVG(TransactionAmount) AS AvgAmount FROM transactions GROUP BY CustomerID) t2 ON t1.CustomerID = t2.CustomerID WHERE t1.TransactionAmount > t2.AvgAmount\").show()\n",
    "\n",
    "    elif choice == 25:\n",
    "        spark.sql(\"SELECT t1.* FROM transactions t1 INNER JOIN transactions t2 ON t1.CustomerID = t2.CustomerID AND DATEDIFF(t1.TransactionDate, t2.TransactionDate) = 1\").show()\n",
    "        "
   ]
  },
  {
   "cell_type": "code",
   "execution_count": null,
   "id": "e0d99967",
   "metadata": {},
   "outputs": [],
   "source": [
    "12"
   ]
  }
 ],
 "metadata": {
  "kernelspec": {
   "display_name": "Python 3 (ipykernel)",
   "language": "python",
   "name": "python3"
  },
  "language_info": {
   "codemirror_mode": {
    "name": "ipython",
    "version": 3
   },
   "file_extension": ".py",
   "mimetype": "text/x-python",
   "name": "python",
   "nbconvert_exporter": "python",
   "pygments_lexer": "ipython3",
   "version": "3.9.13"
  }
 },
 "nbformat": 4,
 "nbformat_minor": 5
}
