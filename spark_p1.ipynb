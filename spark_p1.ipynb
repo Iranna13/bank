{
 "cells": [
  {
   "cell_type": "code",
   "execution_count": 1,
   "id": "d8b6d871",
   "metadata": {},
   "outputs": [],
   "source": [
    "import findspark\n",
    "findspark.init()"
   ]
  },
  {
   "cell_type": "code",
   "execution_count": 2,
   "id": "94e19c6a",
   "metadata": {},
   "outputs": [],
   "source": [
    "import pyspark\n",
    "from pyspark.sql import SparkSession\n",
    "spark=SparkSession.builder.appName('demo').getOrCreate()"
   ]
  },
  {
   "cell_type": "code",
   "execution_count": 3,
   "id": "475f1b79",
   "metadata": {},
   "outputs": [
    {
     "name": "stdout",
     "output_type": "stream",
     "text": [
      "+------------+----------+-----------+----------+------------+------------------+---------------+---------------+-----------------+----+\n",
      "|TransctionID|CustomerID|CustomerDOB|CustGender|CustLocation|CustAccountBalance|TransactionDate|TransactionTime|TransactionAmount| _c9|\n",
      "+------------+----------+-----------+----------+------------+------------------+---------------+---------------+-----------------+----+\n",
      "|          T1|  C5841053| 10-01-1994|         F|  JAMSHEDPUR|          17819.05|     02-08-2016|         143207|             25.0|null|\n",
      "|          T2|  C2142763| 04-04-1957|         M|     JHAJJAR|           2270.69|     02-08-2016|         141858|          27999.0|null|\n",
      "|          T3|  C4417068| 26-11-1996|         F|      MUMBAI|          17874.44|     02-08-2016|         142712|            459.0|null|\n",
      "+------------+----------+-----------+----------+------------+------------------+---------------+---------------+-----------------+----+\n",
      "only showing top 3 rows\n",
      "\n"
     ]
    }
   ],
   "source": [
    "df=spark.read.csv(\"bank_segdata.csv\",inferSchema=True,header=True)\n",
    "df.show(3)"
   ]
  },
  {
   "cell_type": "code",
   "execution_count": 4,
   "id": "a825bfde",
   "metadata": {},
   "outputs": [
    {
     "data": {
      "text/plain": [
       "pyspark.sql.dataframe.DataFrame"
      ]
     },
     "execution_count": 4,
     "metadata": {},
     "output_type": "execute_result"
    }
   ],
   "source": [
    "type(df)"
   ]
  },
  {
   "cell_type": "code",
   "execution_count": 5,
   "id": "58de358f",
   "metadata": {},
   "outputs": [
    {
     "data": {
      "text/plain": [
       "2006"
      ]
     },
     "execution_count": 5,
     "metadata": {},
     "output_type": "execute_result"
    }
   ],
   "source": [
    "df.count()"
   ]
  },
  {
   "cell_type": "code",
   "execution_count": 8,
   "id": "5c74ab1f",
   "metadata": {},
   "outputs": [
    {
     "data": {
      "text/plain": [
       "[Row(TransctionID='T1', CustomerID='C5841053', CustomerDOB='10-01-1994', CustGender='F', CustLocation='JAMSHEDPUR', CustAccountBalance=17819.05, TransactionDate='02-08-2016', TransactionTime=143207, TransactionAmount=25.0, _c9=None),\n",
       " Row(TransctionID='T2', CustomerID='C2142763', CustomerDOB='04-04-1957', CustGender='M', CustLocation='JHAJJAR', CustAccountBalance=2270.69, TransactionDate='02-08-2016', TransactionTime=141858, TransactionAmount=27999.0, _c9=None),\n",
       " Row(TransctionID='T3', CustomerID='C4417068', CustomerDOB='26-11-1996', CustGender='F', CustLocation='MUMBAI', CustAccountBalance=17874.44, TransactionDate='02-08-2016', TransactionTime=142712, TransactionAmount=459.0, _c9=None)]"
      ]
     },
     "execution_count": 8,
     "metadata": {},
     "output_type": "execute_result"
    }
   ],
   "source": [
    "df.take(3)"
   ]
  },
  {
   "cell_type": "code",
   "execution_count": null,
   "id": "31f34785",
   "metadata": {},
   "outputs": [],
   "source": []
  },
  {
   "cell_type": "code",
   "execution_count": 57,
   "id": "cfbc1a2e",
   "metadata": {},
   "outputs": [],
   "source": [
    "# myfunc = spark.read.csv(\"bank_segdata.csv\", inferSchema=True, header=True)\n",
    "# df = myfunc.limit(5) # limit to only show first 3 rows\n",
    "# df.show()\n",
    "\n",
    "# # # Convert DataFrame to RDD\n",
    "# # rdd = df.rdd\n",
    "# # rdd.collect() # Collect and print all elements in the RDD\n"
   ]
  },
  {
   "cell_type": "code",
   "execution_count": 1,
   "id": "7c1dea84",
   "metadata": {},
   "outputs": [],
   "source": [
    "# # Convert DataFrame to RDD\n",
    "# rdd = df.rdd\n",
    "# rdd.collect() # Collect and print all elements in the RDD"
   ]
  },
  {
   "cell_type": "code",
   "execution_count": 2,
   "id": "c9c2e6db",
   "metadata": {},
   "outputs": [],
   "source": [
    "#raw_content = spark.sparkContext.textFile(\"bank_segdata.csv\")\n"
   ]
  },
  {
   "cell_type": "code",
   "execution_count": 4,
   "id": "e989f475",
   "metadata": {},
   "outputs": [],
   "source": [
    "#type(raw_content)"
   ]
  },
  {
   "cell_type": "code",
   "execution_count": 5,
   "id": "03298bca",
   "metadata": {},
   "outputs": [],
   "source": [
    "#raw_content.count()"
   ]
  },
  {
   "cell_type": "code",
   "execution_count": 6,
   "id": "3f0be172",
   "metadata": {},
   "outputs": [],
   "source": [
    "#raw_content.take(5)"
   ]
  },
  {
   "cell_type": "code",
   "execution_count": 7,
   "id": "2961253d",
   "metadata": {},
   "outputs": [],
   "source": [
    "#raw_content.takeSample(True, 5, 3)"
   ]
  },
  {
   "cell_type": "code",
   "execution_count": 8,
   "id": "7c7853f1",
   "metadata": {},
   "outputs": [],
   "source": [
    "# content = raw_content.map(lambda x: x.split(','))\n",
    "# content.take(3)"
   ]
  },
  {
   "cell_type": "code",
   "execution_count": 9,
   "id": "e72c7745",
   "metadata": {},
   "outputs": [],
   "source": [
    "# def clean(x):\n",
    "#         return([xx.replace('', \"\") for xx in x])"
   ]
  },
  {
   "cell_type": "code",
   "execution_count": 10,
   "id": "13b24d11",
   "metadata": {},
   "outputs": [],
   "source": [
    "#content = content.map(clean)"
   ]
  },
  {
   "cell_type": "code",
   "execution_count": 11,
   "id": "1b104fb9",
   "metadata": {},
   "outputs": [],
   "source": [
    "#content.take(4)"
   ]
  },
  {
   "cell_type": "code",
   "execution_count": 12,
   "id": "58bcc785",
   "metadata": {},
   "outputs": [],
   "source": [
    "#package_count = content.map(lambda x: (x[6], 1)).reduceByKey(lambda a,b: a+b)"
   ]
  },
  {
   "cell_type": "code",
   "execution_count": 13,
   "id": "7f837d53",
   "metadata": {},
   "outputs": [],
   "source": [
    "#type(package_count)"
   ]
  },
  {
   "cell_type": "code",
   "execution_count": 14,
   "id": "a65a5182",
   "metadata": {},
   "outputs": [],
   "source": [
    "#package_count.count()"
   ]
  },
  {
   "cell_type": "code",
   "execution_count": 15,
   "id": "1d3fd839",
   "metadata": {},
   "outputs": [],
   "source": [
    "#package_count.take(5)"
   ]
  },
  {
   "cell_type": "code",
   "execution_count": 16,
   "id": "9d826a9f",
   "metadata": {},
   "outputs": [],
   "source": [
    "#package_count_2 = content.map(lambda x: (x[6], 1)).countByKey()"
   ]
  },
  {
   "cell_type": "code",
   "execution_count": 17,
   "id": "bff847e7",
   "metadata": {},
   "outputs": [],
   "source": [
    "#type(package_count_2)"
   ]
  },
  {
   "cell_type": "code",
   "execution_count": null,
   "id": "c63af62b",
   "metadata": {},
   "outputs": [],
   "source": []
  },
  {
   "cell_type": "code",
   "execution_count": null,
   "id": "1abe413b",
   "metadata": {},
   "outputs": [],
   "source": []
  },
  {
   "cell_type": "code",
   "execution_count": null,
   "id": "60d47b34",
   "metadata": {},
   "outputs": [],
   "source": []
  },
  {
   "cell_type": "code",
   "execution_count": 4,
   "id": "ecd7dcf9",
   "metadata": {},
   "outputs": [],
   "source": [
    "import findspark\n",
    "findspark.init()\n",
    "import pyspark\n",
    "from pyspark.sql import SparkSession\n",
    "spark = SparkSession.builder.getOrCreate()\n",
    "from pyspark.sql.functions import *\n"
   ]
  },
  {
   "cell_type": "code",
   "execution_count": 5,
   "id": "a939a0d3",
   "metadata": {},
   "outputs": [],
   "source": [
    "df = spark.read.csv(\"bank_segdata.csv\", inferSchema = True, header = True)"
   ]
  },
  {
   "cell_type": "code",
   "execution_count": 6,
   "id": "b6b7a9e4",
   "metadata": {},
   "outputs": [
    {
     "name": "stdout",
     "output_type": "stream",
     "text": [
      "root\n",
      " |-- TransctionID: string (nullable = true)\n",
      " |-- CustomerID: string (nullable = true)\n",
      " |-- CustomerDOB: string (nullable = true)\n",
      " |-- CustGender: string (nullable = true)\n",
      " |-- CustLocation: string (nullable = true)\n",
      " |-- CustAccountBalance: double (nullable = true)\n",
      " |-- TransactionDate: string (nullable = true)\n",
      " |-- TransactionTime: integer (nullable = true)\n",
      " |-- TransactionAmount: double (nullable = true)\n",
      " |-- _c9: string (nullable = true)\n",
      "\n"
     ]
    }
   ],
   "source": [
    "df.printSchema()"
   ]
  },
  {
   "cell_type": "code",
   "execution_count": 25,
   "id": "aa445669",
   "metadata": {},
   "outputs": [
    {
     "name": "stdout",
     "output_type": "stream",
     "text": [
      "+------------+----------+-----------+----------+------------+------------------+---------------+---------------+-----------------+----+\n",
      "|TransctionID|CustomerID|CustomerDOB|CustGender|CustLocation|CustAccountBalance|TransactionDate|TransactionTime|TransactionAmount| _c9|\n",
      "+------------+----------+-----------+----------+------------+------------------+---------------+---------------+-----------------+----+\n",
      "|          T1|  C5841053| 10-01-1994|         F|  JAMSHEDPUR|          17819.05|     02-08-2016|         143207|             25.0|null|\n",
      "|          T2|  C2142763| 04-04-1957|         M|     JHAJJAR|           2270.69|     02-08-2016|         141858|          27999.0|null|\n",
      "|          T3|  C4417068| 26-11-1996|         F|      MUMBAI|          17874.44|     02-08-2016|         142712|            459.0|null|\n",
      "|          T4|  C5342380| 14-09-1973|         F|      MUMBAI|         866503.21|     02-08-2016|         142714|           2060.0|null|\n",
      "|          T5|  C9031234| 24-03-1988|         F| NAVI MUMBAI|           6714.43|     02-08-2016|         181156|           1762.5|null|\n",
      "+------------+----------+-----------+----------+------------+------------------+---------------+---------------+-----------------+----+\n",
      "only showing top 5 rows\n",
      "\n"
     ]
    }
   ],
   "source": [
    "df.show(5)"
   ]
  },
  {
   "cell_type": "code",
   "execution_count": 26,
   "id": "5388d8d7",
   "metadata": {},
   "outputs": [
    {
     "data": {
      "text/plain": [
       "10"
      ]
     },
     "execution_count": 26,
     "metadata": {},
     "output_type": "execute_result"
    }
   ],
   "source": [
    "len(df.columns)"
   ]
  },
  {
   "cell_type": "code",
   "execution_count": 27,
   "id": "fce074cf",
   "metadata": {},
   "outputs": [
    {
     "data": {
      "text/plain": [
       "2006"
      ]
     },
     "execution_count": 27,
     "metadata": {},
     "output_type": "execute_result"
    }
   ],
   "source": [
    "df.count()"
   ]
  },
  {
   "cell_type": "code",
   "execution_count": 58,
   "id": "6630d69e",
   "metadata": {},
   "outputs": [
    {
     "data": {
      "text/plain": [
       "2006"
      ]
     },
     "execution_count": 58,
     "metadata": {},
     "output_type": "execute_result"
    }
   ],
   "source": [
    "\n",
    "df.distinct().count()"
   ]
  },
  {
   "cell_type": "code",
   "execution_count": 29,
   "id": "92a003d0",
   "metadata": {},
   "outputs": [
    {
     "name": "stdout",
     "output_type": "stream",
     "text": [
      "+----------+-----+\n",
      "|CustomerId|count|\n",
      "+----------+-----+\n",
      "|  C1841937|    2|\n",
      "|  C8732711|    1|\n",
      "|  C6421261|    1|\n",
      "|  C2939112|    1|\n",
      "|  C8741166|    1|\n",
      "|  C4440931|    1|\n",
      "|  C8116854|    1|\n",
      "|  C4029960|    1|\n",
      "|  C7817677|    1|\n",
      "|  C4240562|    1|\n",
      "|  C2221420|    1|\n",
      "|  C8524541|    1|\n",
      "|  C8017865|    1|\n",
      "|  C1021343|    1|\n",
      "|  C4814390|    1|\n",
      "|  C7330163|    1|\n",
      "|  C8640163|    1|\n",
      "|  C4127485|    1|\n",
      "|  C2440683|    1|\n",
      "|  C7034179|    1|\n",
      "+----------+-----+\n",
      "only showing top 20 rows\n",
      "\n"
     ]
    }
   ],
   "source": [
    "\n",
    "df.groupBy(\"CustomerId\").count().orderBy(\"count\", ascending = False).show()"
   ]
  },
  {
   "cell_type": "code",
   "execution_count": 8,
   "id": "81f01cc3",
   "metadata": {},
   "outputs": [
    {
     "name": "stdout",
     "output_type": "stream",
     "text": [
      "+------------+----------+-----------+----------+--------------------+------------------+---------------+---------------+-----------------+----+\n",
      "|TransctionID|CustomerID|CustomerDOB|CustGender|        CustLocation|CustAccountBalance|TransactionDate|TransactionTime|TransactionAmount| _c9|\n",
      "+------------+----------+-----------+----------+--------------------+------------------+---------------+---------------+-----------------+----+\n",
      "|         T23|  C7018081|   1/1/1800|         M|WAYS PANCHKUVA AH...|            143.07|     03-08-2016|         104718|            110.0|null|\n",
      "|         T27|  C5430368| 01-02-1986|         M|               DELHI|            285.76|     03-08-2016|         160537|           5500.0|null|\n",
      "|         T35|  C7017047| 23-04-1977|         M|             GURGAON|             39.73|     03-08-2016|         182715|            110.0|null|\n",
      "|         T37|  C4320949| 25-10-1984|         F|             CHENNAI|            213.06|     03-08-2016|         182915|           1081.0|null|\n",
      "|         T55|  C4237628| 10-04-1987|         M|               NOIDA|            196.83|     05-08-2016|         165658|            150.0|null|\n",
      "|         T58|  C3932235| 20-08-1991|         M|        SHAHJAHANPUR|             91.66|     05-08-2016|         202838|            110.0|null|\n",
      "|         T63|  C1130989| 22-10-1990|         M|                PUNE|            250.26|     05-08-2016|         105850|             60.0|null|\n",
      "|         T74|  C7527844| 16-02-1982|         M|           BANGALORE|             20.63|     01-08-2016|         180822|           3998.0|null|\n",
      "|         T76|  C5930363| 20-08-1994|         M|              ADIPUR|              2.75|     01-08-2016|         194117|            800.0|null|\n",
      "|         T97|  C3232257| 15-10-1994|         M|                ETAH|             78.33|     06-08-2016|         174150|            179.0|null|\n",
      "|        T102|  C4953770| 27-10-1986|         M|            VADODARA|              96.2|     06-08-2016|         182741|           1897.0|null|\n",
      "|        T112|  C4974913| 31-07-1992|         M|          NAGO THANE|             12.01|     06-08-2016|         225941|             59.0|null|\n",
      "|        T115|  C7317029| 19-03-1992|         M|      K V RANGAREDDY|             33.01|     05-08-2016|         105532|             40.0|null|\n",
      "|        T116|  C4232113| 16-04-1991|         M|              MUMBAI|            172.63|     09-08-2016|         175100|            599.0|null|\n",
      "|        T128|  C5027040| 23-03-1984|         M| PUMP HINJEWADI PUNE|             12.54|     09-08-2016|         224849|            200.0|null|\n",
      "|        T133|  C7614444| 03-04-1991|         M|   SOUTH 24 PARGANAS|             19.83|     08-08-2016|         110319|             40.0|null|\n",
      "|        T149|  C1011359| 05-06-1994|         M|             CHENNAI|            179.99|     09-08-2016|          30619|            955.0|null|\n",
      "|        T159|  C7231945| 09-05-1992|         M|              MUMBAI|             12.97|     04-08-2016|         200151|            101.0|null|\n",
      "|        T163|  C7410760| 01-01-1988|         M|            GULBARGA|              5.37|     09-08-2016|          94603|           1020.0|null|\n",
      "|        T165|  C2215655| 11-03-1990|         M|             GURGAON|            171.65|     09-08-2016|         115655|            300.0|null|\n",
      "+------------+----------+-----------+----------+--------------------+------------------+---------------+---------------+-----------------+----+\n",
      "only showing top 20 rows\n",
      "\n"
     ]
    }
   ],
   "source": [
    "#\n",
    "df.filter(df[\"CustAccountBalance\"]<\"500\").show()"
   ]
  },
  {
   "cell_type": "code",
   "execution_count": 39,
   "id": "84a68c96",
   "metadata": {},
   "outputs": [
    {
     "name": "stdout",
     "output_type": "stream",
     "text": [
      "+----------+\n",
      "|CustomerID|\n",
      "+----------+\n",
      "|  C4325361|\n",
      "|  C7675278|\n",
      "|  C8738676|\n",
      "|  C6784890|\n",
      "|  C6629680|\n",
      "|  C1631481|\n",
      "|  C3414431|\n",
      "|  C5874370|\n",
      "|  C7814446|\n",
      "|  C7729224|\n",
      "|  C5830361|\n",
      "+----------+\n",
      "\n"
     ]
    }
   ],
   "source": [
    "#\n",
    "df.filter(df[\"TransactionAmount\"] >50000).select(\"CustomerID\").show()\n",
    "\n"
   ]
  },
  {
   "cell_type": "code",
   "execution_count": 33,
   "id": "c93f26cd",
   "metadata": {},
   "outputs": [
    {
     "name": "stdout",
     "output_type": "stream",
     "text": [
      "+----------+\n",
      "|CustGender|\n",
      "+----------+\n",
      "|         F|\n",
      "|      null|\n",
      "|         M|\n",
      "+----------+\n",
      "\n"
     ]
    }
   ],
   "source": [
    "#\n",
    "df.select(\"CustGender\").distinct().show()"
   ]
  },
  {
   "cell_type": "code",
   "execution_count": 9,
   "id": "4fdab7aa",
   "metadata": {},
   "outputs": [
    {
     "data": {
      "text/plain": [
       "1838"
      ]
     },
     "execution_count": 9,
     "metadata": {},
     "output_type": "execute_result"
    }
   ],
   "source": [
    "#1 customer who is having balance more than 500 and 50000 \n",
    "df.filter((df[\"CustAccountBalance\"]>500) & (df[\"TransactionAmount\"]<50000)).count()"
   ]
  },
  {
   "cell_type": "code",
   "execution_count": 37,
   "id": "747d40ac",
   "metadata": {},
   "outputs": [
    {
     "name": "stdout",
     "output_type": "stream",
     "text": [
      "+-----------------------+\n",
      "|avg(CustAccountBalance)|\n",
      "+-----------------------+\n",
      "|     105321.79597122302|\n",
      "+-----------------------+\n",
      "\n"
     ]
    }
   ],
   "source": [
    "#2 Female customers average account balance\n",
    "df.filter(df[\"CustGender\"] == \"F\").selectExpr(\"avg(CustAccountBalance)\").show()"
   ]
  },
  {
   "cell_type": "code",
   "execution_count": 45,
   "id": "5ed6783f",
   "metadata": {},
   "outputs": [
    {
     "name": "stdout",
     "output_type": "stream",
     "text": [
      "+------------+----------+-----------+----------+------------+------------------+---------------+---------------+-----------------+----+\n",
      "|TransctionID|CustomerID|CustomerDOB|CustGender|CustLocation|CustAccountBalance|TransactionDate|TransactionTime|TransactionAmount| _c9|\n",
      "+------------+----------+-----------+----------+------------+------------------+---------------+---------------+-----------------+----+\n",
      "|         T37|  C4320949| 25-10-1984|         F|     CHENNAI|            213.06|     03-08-2016|         182915|           1081.0|null|\n",
      "|         T87|  C5931634| 15-08-1995|         F|     CHENNAI|           1942.83|     06-08-2016|         121618|             28.0|null|\n",
      "|        T213|  C8426486| 01-07-1989|         F|     CHENNAI|          13279.12|     07-08-2016|         193120|           323.72|null|\n",
      "|        T294|  C7058034| 06-03-1992|         F|     CHENNAI|         184680.72|     21-10-2016|         150915|             50.0|null|\n",
      "|        T315|  C4637288| 25-10-1993|         F|     CHENNAI|            812.53|     21-10-2016|         150427|             25.0|null|\n",
      "|        T486|  C8013820| 12-07-2004|         F|     CHENNAI|           6661.03|     21-10-2016|         215149|            110.0|null|\n",
      "|        T532|  C9016635| 16-09-1980|         F|     CHENNAI|         447165.79|     21-10-2016|         194106|           1610.0|null|\n",
      "|        T589|  C1620690| 14-04-1979|         F|     CHENNAI|          10096.04|     21-10-2016|         194939|            300.0|null|\n",
      "|        T983|  C4865613|   1/1/1800|         F|     CHENNAI|               0.0|     21-10-2016|         204421|           1500.0|null|\n",
      "|       T1118|  C2932039| 21-03-1991|         F|     CHENNAI|          59147.73|     21-10-2016|         203350|           1254.0|null|\n",
      "|       T1226|  C4911265| 12-04-1954|         F|     CHENNAI|         104755.95|     21-10-2016|         210751|           6401.0|null|\n",
      "|       T1305|  C3236282| 10-10-1991|         F|     CHENNAI|          13148.92|     21-10-2016|         213734|            294.0|null|\n",
      "|       T1369|  C8718978| 01-08-1996|         F|     CHENNAI|          17248.02|     21-10-2016|         195216|            200.0|null|\n",
      "|       T1395|  C4019053| 24-02-1988|         F|     CHENNAI|           6829.19|     21-10-2016|         201209|           1292.0|null|\n",
      "|       T1494|  C8622547| 07-07-1986|         F|     CHENNAI|           7592.69|     21-10-2016|         193002|            430.0|null|\n",
      "|       T1500|  C8822478| 25-09-1991|         F|     CHENNAI|          43721.03|     21-10-2016|         195319|          15960.0|null|\n",
      "|       T1690|  C7817677| 14-07-1989|         F|     CHENNAI|          26101.61|     21-10-2016|         203624|            225.0|null|\n",
      "|       T1696|  C1619820| 13-01-1991|         F|     CHENNAI|          41448.24|     21-10-2016|         204214|            195.0|null|\n",
      "|       T1844|  C8620619| 14-04-1979|         F|     CHENNAI|          10096.04|     21-10-2016|         204721|           258.99|null|\n",
      "|       T1850|  C5529457| 23-01-1997|         F|     CHENNAI|         127345.92|     21-10-2016|         110537|             2.75|null|\n",
      "+------------+----------+-----------+----------+------------+------------------+---------------+---------------+-----------------+----+\n",
      "only showing top 20 rows\n",
      "\n"
     ]
    }
   ],
   "source": [
    "#3 Female Customers who are from chennai\n",
    "df.filter((df[\"CustGender\"]==\"F\") & (df[\"CustLocation\"]==\"CHENNAI\")).show()"
   ]
  },
  {
   "cell_type": "code",
   "execution_count": 32,
   "id": "44f03a82",
   "metadata": {},
   "outputs": [
    {
     "name": "stdout",
     "output_type": "stream",
     "text": [
      "+----------+------------------------+\n",
      "|CustGender|total_transaction_amount|\n",
      "+----------+------------------------+\n",
      "|         F|       877278.5199999997|\n",
      "|      null|                  3449.0|\n",
      "|         M|      2855457.6599999988|\n",
      "+----------+------------------------+\n",
      "\n"
     ]
    }
   ],
   "source": [
    "#4\n",
    "#Find the total transaction amount for each customer according to gender\n",
    "\n",
    "df.groupBy(\"CustGender\").agg(sum(\"TransactionAmount\").alias(\"total_transaction_amount\")).show()\n"
   ]
  },
  {
   "cell_type": "code",
   "execution_count": 66,
   "id": "4d231f2a",
   "metadata": {},
   "outputs": [
    {
     "name": "stdout",
     "output_type": "stream",
     "text": [
      "+---------------+------------------------+\n",
      "|TransactionDate|HighestTransactionAmount|\n",
      "+---------------+------------------------+\n",
      "|     05-08-2016|                   519.0|\n",
      "|     09-08-2016|                   599.0|\n",
      "|     01-08-2016|                 1423.11|\n",
      "|     07-08-2016|                   127.8|\n",
      "|     03-08-2016|                  6800.0|\n",
      "|     04-08-2016|                 10885.0|\n",
      "|     21-10-2016|                 23352.0|\n",
      "|     12-08-2016|                   500.0|\n",
      "|     02-08-2016|                  2060.0|\n",
      "|     06-08-2016|                  787.98|\n",
      "+---------------+------------------------+\n",
      "\n"
     ]
    }
   ],
   "source": [
    "#5\n",
    "#PySpark to find the highest transaction amount made in Mumbai on each transaction date in a DataFrame.\n",
    "from pyspark.sql.functions import max\n",
    "\n",
    "highest_transactions = df.filter(df[\"CustLocation\"] == \"MUMBAI\") \\\n",
    "                         .groupBy(\"TransactionDate\") \\\n",
    "                         .agg(max(\"TransactionAmount\").alias(\"HighestTransactionAmount\"))\n",
    "\n",
    "highest_transactions.show()\n",
    "\n"
   ]
  },
  {
   "cell_type": "code",
   "execution_count": 5,
   "id": "6df5309c",
   "metadata": {},
   "outputs": [
    {
     "name": "stdout",
     "output_type": "stream",
     "text": [
      "+----------------------+\n",
      "|avg(TransactionAmount)|\n",
      "+----------------------+\n",
      "|     1862.505074775673|\n",
      "+----------------------+\n",
      "\n"
     ]
    }
   ],
   "source": [
    "#6\n",
    "#Show the average transaction amount:\n",
    "df.select(\"TransactionAmount\").agg({\"TransactionAmount\": \"avg\"}).show()\n"
   ]
  },
  {
   "cell_type": "code",
   "execution_count": 6,
   "id": "471f801b",
   "metadata": {},
   "outputs": [
    {
     "name": "stdout",
     "output_type": "stream",
     "text": [
      "+----------------------+\n",
      "|max(TransactionAmount)|\n",
      "+----------------------+\n",
      "|              137890.0|\n",
      "+----------------------+\n",
      "\n"
     ]
    }
   ],
   "source": [
    "#7\n",
    "#Show the maximum transaction amount\n",
    "df.select(\"TransactionAmount\").agg({\"TransactionAmount\": \"max\"}).show()\n"
   ]
  },
  {
   "cell_type": "code",
   "execution_count": 7,
   "id": "fc2ba443",
   "metadata": {},
   "outputs": [
    {
     "name": "stdout",
     "output_type": "stream",
     "text": [
      "+----------------------+\n",
      "|min(TransactionAmount)|\n",
      "+----------------------+\n",
      "|                   0.0|\n",
      "+----------------------+\n",
      "\n"
     ]
    }
   ],
   "source": [
    "#8\n",
    "#Show the minimum transaction amount:\n",
    "df.select(\"TransactionAmount\").agg({\"TransactionAmount\": \"min\"}).show()\n"
   ]
  },
  {
   "cell_type": "code",
   "execution_count": 10,
   "id": "0b61e5c6",
   "metadata": {},
   "outputs": [],
   "source": [
    "#9\n",
    "#Show the transaction with the highest amount:\n",
    "from pyspark.sql.functions import desc\n",
    "\n",
    "# sort the transactions by amount in descending order\n",
    "sorted_transactions = df.sort(desc(\"TransactionAmount\"))\n",
    "\n",
    "# get the transaction with the highest amount\n",
    "highest_transaction = sorted_transactions.first()\n",
    "\n"
   ]
  },
  {
   "cell_type": "code",
   "execution_count": 11,
   "id": "b1cfe427",
   "metadata": {},
   "outputs": [
    {
     "name": "stdout",
     "output_type": "stream",
     "text": [
      "TransctionID: T207\n",
      "Amount: 137890.0\n"
     ]
    }
   ],
   "source": [
    "# print the transaction ID and amount\n",
    "print(\"TransctionID:\", highest_transaction.TransctionID)\n",
    "print(\"Amount:\", highest_transaction.TransactionAmount)\n"
   ]
  },
  {
   "cell_type": "code",
   "execution_count": 10,
   "id": "5ac7330a",
   "metadata": {},
   "outputs": [
    {
     "name": "stdout",
     "output_type": "stream",
     "text": [
      "+----------+----------------------+\n",
      "|CustomerID|sum(TransactionAmount)|\n",
      "+----------+----------------------+\n",
      "|  C8732711|                1423.0|\n",
      "|  C6421261|                5555.0|\n",
      "|  C2939112|                 321.0|\n",
      "|  C8741166|               1512.75|\n",
      "|  C4440931|                 200.0|\n",
      "|  C8116854|                 270.0|\n",
      "|  C4029960|                  50.0|\n",
      "|  C7817677|                 225.0|\n",
      "|  C4240562|                 446.0|\n",
      "|  C2221420|                 618.0|\n",
      "|  C8524541|                 445.0|\n",
      "|  C8017865|                 142.0|\n",
      "|  C1021343|                 467.0|\n",
      "|  C4814390|               47290.0|\n",
      "|  C7330163|                 730.0|\n",
      "|  C8640163|                1721.0|\n",
      "|  C4127485|                1250.0|\n",
      "|  C2440683|                 440.0|\n",
      "|  C7034179|                  15.0|\n",
      "|  C3225470|                 160.0|\n",
      "+----------+----------------------+\n",
      "only showing top 20 rows\n",
      "\n"
     ]
    }
   ],
   "source": [
    "#10\n",
    "#Show the total transaction amount for each customer:\n",
    "df.groupBy(\"CustomerID\").agg({\"TransactionAmount\": \"sum\"}).show()\n"
   ]
  },
  {
   "cell_type": "code",
   "execution_count": 11,
   "id": "e064a344",
   "metadata": {},
   "outputs": [
    {
     "name": "stdout",
     "output_type": "stream",
     "text": [
      "+----------+----------------------+\n",
      "|CustGender|avg(TransactionAmount)|\n",
      "+----------+----------------------+\n",
      "|         F|    1577.8390647482008|\n",
      "|      null|                3449.0|\n",
      "|         M|    1970.6402070393367|\n",
      "+----------+----------------------+\n",
      "\n"
     ]
    }
   ],
   "source": [
    "#\n",
    "#Show the average transaction amount for each customer gender:\n",
    "df.groupBy(\"CustGender\").agg({\"TransactionAmount\": \"avg\"}).show()\n"
   ]
  },
  {
   "cell_type": "code",
   "execution_count": 21,
   "id": "b4bdd62c",
   "metadata": {},
   "outputs": [
    {
     "name": "stdout",
     "output_type": "stream",
     "text": [
      "+------------+----------+-----------+----------+--------------------+------------------+---------------+---------------+-----------------+----+\n",
      "|TransctionID|CustomerID|CustomerDOB|CustGender|        CustLocation|CustAccountBalance|TransactionDate|TransactionTime|TransactionAmount| _c9|\n",
      "+------------+----------+-----------+----------+--------------------+------------------+---------------+---------------+-----------------+----+\n",
      "|        T219|  C5413870| 10-12-1971|         M|               THANE|           17920.6|     21-10-2016|         153145|            200.0|null|\n",
      "|        T220|  C2435753| 17-12-1980|         M|           NEW DELHI|          45812.85|     21-10-2016|         153910|            518.0|null|\n",
      "|        T221|  C4830619| 16-07-1993|         M|           HYDERABAD|            5795.3|     21-10-2016|         110148|           203.12|null|\n",
      "|        T222|  C2880664| 22-07-1989|         M|           BANGALORE|          76385.67|     21-10-2016|         151926|           1294.0|null|\n",
      "|        T223|  C9022645|        nan|         M|            BHIWANDI|            1730.3|     21-10-2016|         150814|           4000.0|null|\n",
      "|        T224|  C2213811| 13-12-1987|         F|           HYDERABAD|           16431.3|     21-10-2016|         165639|           1119.0|null|\n",
      "|        T225|  C7541566| 21-12-1992|         M|            CHITTO0R|              2.87|     21-10-2016|         165644|             40.0|null|\n",
      "|        T226|  C2429086| 13-02-1979|         M|           NEW DELHI|          26413.93|     21-10-2016|         165644|            510.0|null|\n",
      "|        T227|  C6918371| 25-05-1966|         F|              KERALA|         801229.49|     21-10-2016|         161925|           1550.0|null|\n",
      "|        T228|  C7527049| 17-04-1966|         M|               SURAT|           5407.86|     21-10-2016|         162705|            149.0|null|\n",
      "|        T229|  C6058483| 04-06-1990|         M|GHINGHARTOLA TEH ...|           4044.37|     21-10-2016|         162707|             40.0|null|\n",
      "|        T230|  C4456638| 19-07-1967|         F|           NEW DELHI|          36278.83|     21-10-2016|         160047|            500.0|null|\n",
      "|        T231|  C2811892| 16-03-1989|         M|              MUMBAI|            344.25|     21-10-2016|         160048|            220.0|null|\n",
      "|        T232|  C7823561| 09-02-1991|         M|              MUMBAI|           3875.77|     21-10-2016|         160125|             30.0|null|\n",
      "|        T233|  C6520033| 12-03-1989|         M|              MUMBAI|         121747.74|     21-10-2016|         152746|            200.0|null|\n",
      "|        T234|  C2110492| 05-07-1983|         F|           BANGALORE|          40366.35|     21-10-2016|         153030|           4200.0|null|\n",
      "|        T235|  C4217328| 19-09-1988|         M|           BANGALORE|          15693.31|     21-10-2016|         160043|            200.0|null|\n",
      "|        T236|  C6927275| 10-11-1986|         M|             CHENNAI|          44164.97|     21-10-2016|         151615|           3142.0|null|\n",
      "|        T237|  C2042372| 24-08-1985|         F|               NOIDA|         121821.27|     21-10-2016|         151650|          1219.04|null|\n",
      "|        T238|  C3727411| 21-02-1987|         F|            ROURKELA|             167.1|     21-10-2016|         150740|            199.0|null|\n",
      "+------------+----------+-----------+----------+--------------------+------------------+---------------+---------------+-----------------+----+\n",
      "only showing top 20 rows\n",
      "\n"
     ]
    }
   ],
   "source": [
    "#11Find transactions made on a specific date (e.g. \"21-10-2016\") \n",
    "from pyspark.sql.functions import col\n",
    "\n",
    "# assuming that `df` is a DataFrame object that you have defined elsewhere\n",
    "count = df.filter(col(\"TransactionDate\") == \"21-10-2016\").show()\n"
   ]
  },
  {
   "cell_type": "code",
   "execution_count": 23,
   "id": "125bfbf0",
   "metadata": {},
   "outputs": [
    {
     "name": "stdout",
     "output_type": "stream",
     "text": [
      "+------------+----------+-----------+----------+--------------------+------------------+---------------+---------------+-----------------+----+\n",
      "|TransctionID|CustomerID|CustomerDOB|CustGender|        CustLocation|CustAccountBalance|TransactionDate|TransactionTime|TransactionAmount| _c9|\n",
      "+------------+----------+-----------+----------+--------------------+------------------+---------------+---------------+-----------------+----+\n",
      "|         T22|  C4511244| 31-08-1989|         F|        SECUNDERABAD|           4470.15|     03-08-2016|         105329|             27.0|null|\n",
      "|         T23|  C7018081|   1/1/1800|         M|WAYS PANCHKUVA AH...|            143.07|     03-08-2016|         104718|            110.0|null|\n",
      "|         T24|  C5830215| 01-10-1986|         M|             LUCKNOW|          12868.42|     03-08-2016|         125629|            291.0|null|\n",
      "|         T25|  C1219943| 17-05-1991|         F|             GURGAON|            2951.1|     03-08-2016|         124834|           1892.0|null|\n",
      "|         T26|  C5521085| 24-02-1993|         M|             GURGAON|           3297.74|     03-08-2016|         160533|            242.0|null|\n",
      "|         T27|  C5430368| 01-02-1986|         M|               DELHI|            285.76|     03-08-2016|         160537|           5500.0|null|\n",
      "|         T28|  C2416848| 01-04-1993|         M|             CHENNAI|          20986.66|     03-08-2016|         160544|           2235.0|null|\n",
      "|         T29|  C7935438|   1/1/1800|         M|              MOHALI|         969436.12|     03-08-2016|         183634|             36.9|null|\n",
      "|         T30|  C8736958| 19-12-1986|         M|GRAM PANCHAYTH HY...|              null|     03-08-2016|         160636|           2600.0|null|\n",
      "|         T31|  C7648712| 21-01-1967|         F|           NEW DELHI|         298461.05|     03-08-2016|         160642|            500.0|null|\n",
      "|         T32|  C5652115| 26-06-1991|         F|           GHAZIABAD|           6384.54|     03-08-2016|         160558|             10.0|null|\n",
      "|         T33|  C1889073| 25-02-1985|         F|           BANGALORE|          57791.69|     03-08-2016|         160750|            760.0|null|\n",
      "|         T34|  C2043652| 25-07-1979|         F|              MUMBAI|          123781.9|     03-08-2016|         182714|           6800.0|null|\n",
      "|         T35|  C7017047| 23-04-1977|         M|             GURGAON|             39.73|     03-08-2016|         182715|            110.0|null|\n",
      "|         T36|  C1211387|   1/1/1800|         M|           AHMEDABAD|          11791.25|     03-08-2016|         125915|           1075.0|null|\n",
      "|         T37|  C4320949| 25-10-1984|         F|             CHENNAI|            213.06|     03-08-2016|         182915|           1081.0|null|\n",
      "|         T38|  C2331533| 30-12-1997|         F|            GUWAHATI|          44627.73|     03-08-2016|         182918|           2999.0|null|\n",
      "|         T39|  C5338459| 03-01-1984|         M|             DHANBAD|         113238.74|     03-08-2016|         180948|           1350.0|null|\n",
      "|         T40|  C5120181| 25-06-1985|         M|             MUKTSAR|           2477.42|     03-08-2016|         183614|            683.0|null|\n",
      "|         T41|  C5838935| 13-04-1983|         M|             SOCORRO|           58406.7|     03-08-2016|         132517|             50.0|null|\n",
      "+------------+----------+-----------+----------+--------------------+------------------+---------------+---------------+-----------------+----+\n",
      "only showing top 20 rows\n",
      "\n",
      "+----------+----------------------+------------------+---------------+\n",
      "|CustomerID|TotalTransactionAmount|CustAccountBalance|CustomerBalance|\n",
      "+----------+----------------------+------------------+---------------+\n",
      "|  C8732711|                1423.0|          82130.58|       83553.58|\n",
      "|  C6421261|                5555.0|           8446.57|       14001.57|\n",
      "|  C2939112|                 321.0|           6446.24|        6767.24|\n",
      "|  C8741166|               1512.75|          77948.53|       79461.28|\n",
      "|  C4440931|                 200.0|          20910.78|       21110.78|\n",
      "|  C8116854|                 270.0|         511134.58|      511404.58|\n",
      "|  C4029960|                  50.0|          26683.46|       26733.46|\n",
      "|  C7817677|                 225.0|          26101.61|       26326.61|\n",
      "|  C4240562|                 446.0|           59714.7|        60160.7|\n",
      "|  C2221420|                 618.0|           5301.42|        5919.42|\n",
      "|  C8524541|                 445.0|             136.2|          581.2|\n",
      "|  C4814390|               47290.0|          78122.46|      125412.46|\n",
      "|  C7330163|                 730.0|          30774.49|       31504.49|\n",
      "|  C8640163|                1721.0|          76122.22|       77843.22|\n",
      "|  C4127485|                1250.0|           22159.6|        23409.6|\n",
      "|  C2440683|                 440.0|           1123.68|        1563.68|\n",
      "|  C7034179|                  15.0|           5117.84|        5132.84|\n",
      "|  C3225470|                 160.0|          56806.25|       56966.25|\n",
      "|  C8113647|                1650.0|          55097.47|       56747.47|\n",
      "|  C5336058|                4195.6|           7684.52|       11880.12|\n",
      "+----------+----------------------+------------------+---------------+\n",
      "only showing top 20 rows\n",
      "\n"
     ]
    }
   ],
   "source": [
    "#12\n",
    "from pyspark.sql.functions import col, sum\n",
    "\n",
    "# Filter transactions by date range\n",
    "filtered_transactions_df = df.filter(col(\"TransactionDate\").between(\"03-08-2016\", \"21-10-2016\"))\n",
    "\n",
    "# Print the filtered DataFrame\n",
    "filtered_transactions_df.show()\n",
    "\n",
    "# Calculate customer balances\n",
    "customer_balances_df = filtered_transactions_df.groupBy(\"CustomerID\")\\\n",
    "    .agg(sum(\"TransactionAmount\").alias(\"TotalTransactionAmount\"))\\\n",
    "    .join(df.select(\"CustomerID\", \"CustAccountBalance\"), on=\"CustomerID\", how=\"left\")\\\n",
    "    .withColumn(\"CustomerBalance\", col(\"CustAccountBalance\") + col(\"TotalTransactionAmount\"))\n",
    "\n",
    "# Display the resulting DataFrame\n",
    "customer_balances_df.show()\n"
   ]
  },
  {
   "cell_type": "code",
   "execution_count": 13,
   "id": "0b7259bb",
   "metadata": {},
   "outputs": [
    {
     "name": "stdout",
     "output_type": "stream",
     "text": [
      "+------------+----------+-----------+----------+--------------------+------------------+---------------+---------------+-----------------+----+\n",
      "|TransctionID|CustomerID|CustomerDOB|CustGender|        CustLocation|CustAccountBalance|TransactionDate|TransactionTime|TransactionAmount| _c9|\n",
      "+------------+----------+-----------+----------+--------------------+------------------+---------------+---------------+-----------------+----+\n",
      "|       T1419|  C5717433|   1/1/1800|         F|              MOHALI|     1.413119502E7|     21-10-2016|         204645|           2411.0|null|\n",
      "|       T2002|  C7728829| 27-10-1980|         M|              MUMBAI|        3659161.33|     21-10-2016|         204521|           5997.0|null|\n",
      "|       T1058|  C5442656| 02-01-1986|         M|              BOKARO|         3482113.5|     21-10-2016|         205137|           5500.0|null|\n",
      "|        T526|  C5072857|   1/1/1800|         M|           NEW DELHI|        3053688.58|     21-10-2016|         204225|           1088.0|null|\n",
      "|        T579|  C7732922| 17-05-1968|         M|           NEW DELHI|        2916683.97|     21-10-2016|         221816|           6199.0|null|\n",
      "|        T759|  C6330852|   1/1/1800|         M|              MUMBAI|        2712481.26|     21-10-2016|         202946|           5900.0|null|\n",
      "|       T1089|  C3228213| 07-07-1962|         M|N M JOSHI MARG LO...|        2494964.39|     21-10-2016|         163526|           341.87|null|\n",
      "|       T1488|  C2828226| 07-07-1962|         M|N M JOSHI MARG LO...|        2494964.39|     21-10-2016|         163238|          1659.69|null|\n",
      "|       T1765|  C8922138| 23-11-1959|         M|           NEW DELHI|        2006295.96|     21-10-2016|         200024|          29600.0|null|\n",
      "|       T1049|  C7329287|   1/1/1800|         F|           NEW DELHI|        1971218.11|     21-10-2016|         203509|           3592.0|null|\n",
      "|       T1778|  C5026617| 05-05-1980|         M|               THANE|        1883047.15|     21-10-2016|         223021|           2825.0|null|\n",
      "|        T207|  C7675278|   1/1/1800|         M|               NOIDA|        1867210.51|     07-08-2016|         144436|         137890.0|null|\n",
      "|       T1569|  C8712183| 22-12-1936|         M|              MUMBAI|        1773111.86|     21-10-2016|         214521|           1290.0|null|\n",
      "|       T1990|  C8317026|   1/1/1800|         M|    KHAR WEST MUMBAI|        1599263.99|     21-10-2016|         204157|           1125.0|null|\n",
      "|        T906|  C3414431| 01-01-1980|         M|          CHANDIGARH|        1586508.61|     21-10-2016|         205750|         100000.0|null|\n",
      "|       T1270|  C7814446| 01-01-1980|         M|          CHANDIGARH|        1586508.61|     21-10-2016|         205715|         100000.0|null|\n",
      "|       T1207|  C8842737| 28-10-1986|         M|               ANAND|        1577984.15|     21-10-2016|         203202|           1758.4|null|\n",
      "|       T1520|  C1155983| 09-09-1985|         M|               DELHI|        1572828.44|     21-10-2016|         200312|            795.0|null|\n",
      "|        T693|  C6993164| 21-05-1975|         M|              MUMBAI|        1473749.77|     21-10-2016|         194308|            209.0|null|\n",
      "|        T367|  C6784890| 10-05-1971|         M|               NOIDA|        1441016.64|     21-10-2016|         203410|          60000.0|null|\n",
      "+------------+----------+-----------+----------+--------------------+------------------+---------------+---------------+-----------------+----+\n",
      "only showing top 20 rows\n",
      "\n"
     ]
    }
   ],
   "source": [
    "#13\n",
    "#Show the customers with the highest account balance:\n",
    "df.orderBy(\"CustAccountBalance\", ascending=False).show()\n"
   ]
  },
  {
   "cell_type": "code",
   "execution_count": 14,
   "id": "486e5e7d",
   "metadata": {},
   "outputs": [
    {
     "name": "stdout",
     "output_type": "stream",
     "text": [
      "+--------------------+----------------------+\n",
      "|        CustLocation|sum(TransactionAmount)|\n",
      "+--------------------+----------------------+\n",
      "|             GWALIOR|                2350.0|\n",
      "|              BOKARO|                6335.0|\n",
      "|            KALYAN W|                 137.7|\n",
      "|    KALYAN (W) THANE|                3943.0|\n",
      "|          RAI BARELI|                  50.0|\n",
      "|HOSPITAL BEHIND C...|                  85.0|\n",
      "| PUMP HINJEWADI PUNE|                 200.0|\n",
      "|JOGESHWARI (E) MU...|                1099.0|\n",
      "|               MANDI|                  64.0|\n",
      "|           DARBHANGA|                  75.0|\n",
      "|       SRIPERUMBUDUR|                2625.0|\n",
      "|   PASCHIM MEDINIPUR|                 363.0|\n",
      "|            RAMNAGAR|                1920.0|\n",
      "|             KOLKATA|             126947.97|\n",
      "|         BULANDSHAHR|                2729.0|\n",
      "|              GUNTUR|                 956.0|\n",
      "|              INDORE|              13536.98|\n",
      "|   SOUTH 24 PARGANAS|                  55.0|\n",
      "|           MANGALORE|                2395.0|\n",
      "|              JORHAT|                 399.0|\n",
      "+--------------------+----------------------+\n",
      "only showing top 20 rows\n",
      "\n"
     ]
    }
   ],
   "source": [
    "#14\n",
    "#Show the total transaction amount for each location:\n",
    "df.groupBy(\"CustLocation\").agg({\"TransactionAmount\": \"sum\"}).show()\n"
   ]
  },
  {
   "cell_type": "code",
   "execution_count": 60,
   "id": "c047a33b",
   "metadata": {},
   "outputs": [
    {
     "name": "stdout",
     "output_type": "stream",
     "text": [
      "+--------------------+----------------------+-------------------+\n",
      "|        CustLocation|sum(TransactionAmount)|count(TransctionID)|\n",
      "+--------------------+----------------------+-------------------+\n",
      "|             GWALIOR|                2350.0|                  2|\n",
      "|              BOKARO|                6335.0|                  3|\n",
      "|            KALYAN W|                 137.7|                  1|\n",
      "|    KALYAN (W) THANE|                3943.0|                  1|\n",
      "|          RAI BARELI|                  50.0|                  1|\n",
      "|HOSPITAL BEHIND C...|                  85.0|                  1|\n",
      "| PUMP HINJEWADI PUNE|                 200.0|                  1|\n",
      "|JOGESHWARI (E) MU...|                1099.0|                  1|\n",
      "|               MANDI|                  64.0|                  1|\n",
      "|           DARBHANGA|                  75.0|                  2|\n",
      "|       SRIPERUMBUDUR|                2625.0|                  2|\n",
      "|   PASCHIM MEDINIPUR|                 363.0|                  1|\n",
      "|            RAMNAGAR|                1920.0|                  1|\n",
      "|             KOLKATA|             126947.97|                 37|\n",
      "|         BULANDSHAHR|                2729.0|                  3|\n",
      "|              GUNTUR|                 956.0|                  4|\n",
      "|              INDORE|              13536.98|                  7|\n",
      "|   SOUTH 24 PARGANAS|                  55.0|                  2|\n",
      "|           MANGALORE|                2395.0|                  7|\n",
      "|              JORHAT|                 399.0|                  1|\n",
      "+--------------------+----------------------+-------------------+\n",
      "only showing top 20 rows\n",
      "\n"
     ]
    }
   ],
   "source": [
    "#15\n",
    "#Show the total number of transactions and the average transaction amount for each customer location:\n",
    "df.groupBy(\"CustLocation\").agg({\"TransactionAmount\": \"sum\", \"TransctionID\": \"count\"}).show()\n"
   ]
  },
  {
   "cell_type": "code",
   "execution_count": 25,
   "id": "aa1116f3",
   "metadata": {},
   "outputs": [
    {
     "name": "stdout",
     "output_type": "stream",
     "text": [
      "+------------+----------+-----------+----------+--------------------+------------------+---------------+---------------+-----------------+----+\n",
      "|TransctionID|CustomerID|CustomerDOB|CustGender|        CustLocation|CustAccountBalance|TransactionDate|TransactionTime|TransactionAmount| _c9|\n",
      "+------------+----------+-----------+----------+--------------------+------------------+---------------+---------------+-----------------+----+\n",
      "|          T1|  C5841053| 10-01-1994|         F|          JAMSHEDPUR|          17819.05|     02-08-2016|         143207|             25.0|null|\n",
      "|          T2|  C2142763| 04-04-1957|         M|             JHAJJAR|           2270.69|     02-08-2016|         141858|          27999.0|null|\n",
      "|          T3|  C4417068| 26-11-1996|         F|              MUMBAI|          17874.44|     02-08-2016|         142712|            459.0|null|\n",
      "|          T4|  C5342380| 14-09-1973|         F|              MUMBAI|         866503.21|     02-08-2016|         142714|           2060.0|null|\n",
      "|          T5|  C9031234| 24-03-1988|         F|         NAVI MUMBAI|           6714.43|     02-08-2016|         181156|           1762.5|null|\n",
      "|          T6|  C1536588| 08-10-1972|         F|            ITANAGAR|           53609.2|     02-08-2016|         173940|            676.0|null|\n",
      "|          T7|  C7126560| 26-01-1992|         F|              MUMBAI|            973.46|     02-08-2016|         173806|            566.0|null|\n",
      "|          T8|  C1220223| 27-01-1982|         M|              MUMBAI|          95075.54|     02-08-2016|         170537|            148.0|null|\n",
      "|         T14|  C8327851| 05-01-1992|         F|               THANE|          59950.44|     01-08-2016|          84706|             50.0|null|\n",
      "|         T15|  C7917151| 24-03-1978|         M|                PUNE|          10100.84|     01-08-2016|          82253|            338.0|null|\n",
      "|         T16|  C8334633| 10-07-1968|         F|           NEW DELHI|           1283.12|     01-08-2016|         125725|            250.0|null|\n",
      "|         T17|  C1376215|   1/1/1800|         M|              MUMBAI|          77495.15|     01-08-2016|         124727|          1423.11|null|\n",
      "|         T18|  C8967349| 16-07-1989|         M|              MUMBAI|           2177.85|     01-08-2016|         124734|             54.0|null|\n",
      "|         T19|  C3732016| 11-01-1991|         M|              MUMBAI|          32816.17|     01-08-2016|         122135|            315.0|null|\n",
      "|         T20|  C8999019| 24-06-1985|         M|                PUNE|           10643.5|     01-08-2016|         152821|            945.0|null|\n",
      "|         T21|  C6121429| 20-04-1993|         M|NO 3 KALYANI NAGA...|           2934.22|     01-08-2016|         152824|             36.0|null|\n",
      "|         T22|  C4511244| 31-08-1989|         F|        SECUNDERABAD|           4470.15|     03-08-2016|         105329|             27.0|null|\n",
      "|         T23|  C7018081|   1/1/1800|         M|WAYS PANCHKUVA AH...|            143.07|     03-08-2016|         104718|            110.0|null|\n",
      "|         T24|  C5830215| 01-10-1986|         M|             LUCKNOW|          12868.42|     03-08-2016|         125629|            291.0|null|\n",
      "|         T25|  C1219943| 17-05-1991|         F|             GURGAON|            2951.1|     03-08-2016|         124834|           1892.0|null|\n",
      "+------------+----------+-----------+----------+--------------------+------------------+---------------+---------------+-----------------+----+\n",
      "only showing top 20 rows\n",
      "\n",
      "+----------+----------------------+------------------+------------------+\n",
      "|CustomerID|TotalTransactionAmount|CustAccountBalance|   CustomerBalance|\n",
      "+----------+----------------------+------------------+------------------+\n",
      "|  C8732711|                1423.0|          82130.58|          83553.58|\n",
      "|  C8017865|                 142.0|           87884.2|           88026.2|\n",
      "|  C4814390|               47290.0|          78122.46|         125412.46|\n",
      "|  C2440683|                 440.0|           1123.68|           1563.68|\n",
      "|  C7034179|                  15.0|           5117.84|           5132.84|\n",
      "|  C5828132|                 120.0|          24381.67|          24501.67|\n",
      "|  C5232732|               2813.62|           7330.62|          10144.24|\n",
      "|  C7641090|                   1.0|            8588.5|            8589.5|\n",
      "|  C5067828|                5887.0|          46936.18|          52823.18|\n",
      "|  C7812071|                1150.0|           8585.51|           9735.51|\n",
      "|  C4026349|                 357.0|         150501.26|         150858.26|\n",
      "|  C6637047|                 145.0|           9956.49|          10101.49|\n",
      "|  C1268950|                 500.0|          21756.67|          22256.67|\n",
      "|  C7358678|                 695.0|           5802.91|           6497.91|\n",
      "|  C3228213|                341.87|        2494964.39|2495306.2600000002|\n",
      "|  C2526046|                1735.0|          31369.53|          33104.53|\n",
      "|  C1733292|                 283.0|         174684.91|         174967.91|\n",
      "|  C7340149|                2200.0|         134969.65|         137169.65|\n",
      "|  C2936517|                  35.0|          23952.37|          23987.37|\n",
      "|  C4023754|                 100.0|              0.74|            100.74|\n",
      "+----------+----------------------+------------------+------------------+\n",
      "only showing top 20 rows\n",
      "\n"
     ]
    }
   ],
   "source": [
    "#16\n",
    "from pyspark.sql.functions import col, sum\n",
    "\n",
    "# Filter transactions by date range\n",
    "filtered_transactions_df = df.filter(col(\"TransactionTime\").between(\"52256\", \"183144\"))\n",
    "\n",
    "# Print the filtered DataFrame\n",
    "filtered_transactions_df.show()\n",
    "\n",
    "# Calculate customer balances\n",
    "customer_balances_df = filtered_transactions_df.groupBy(\"CustomerID\")\\\n",
    "    .agg(sum(\"TransactionAmount\").alias(\"TotalTransactionAmount\"))\\\n",
    "    .join(df.select(\"CustomerID\", \"CustAccountBalance\"), on=\"CustomerID\", how=\"left\")\\\n",
    "    .withColumn(\"CustomerBalance\", col(\"CustAccountBalance\") + col(\"TotalTransactionAmount\"))\n",
    "\n",
    "# Display the resulting DataFrame\n",
    "customer_balances_df.show()\n"
   ]
  },
  {
   "cell_type": "code",
   "execution_count": 26,
   "id": "5f71419a",
   "metadata": {},
   "outputs": [
    {
     "name": "stdout",
     "output_type": "stream",
     "text": [
      "+----------+--------------------+------------------+\n",
      "|CustomerID|        CustLocation|CustAccountBalance|\n",
      "+----------+--------------------+------------------+\n",
      "|  C1536588|            ITANAGAR|           53609.2|\n",
      "|  C6121429|NO 3 KALYANI NAGA...|           2934.22|\n",
      "|  C7018081|WAYS PANCHKUVA AH...|            143.07|\n",
      "|  C5338459|             DHANBAD|         113238.74|\n",
      "|  C5120181|             MUKTSAR|           2477.42|\n",
      "|  C5838935|             SOCORRO|           58406.7|\n",
      "|  C7923455|ANDHERI (EAST) MU...|           5810.82|\n",
      "|  C1289591|                KOTA|         282455.64|\n",
      "|  C7542443|      K V RANGAREDDY|          25222.91|\n",
      "|  C6427687|       MUZAFFARNAGAR|           2162.36|\n",
      "|  C3932235|        SHAHJAHANPUR|             91.66|\n",
      "|  C7415323|  DIST RAIGAD PANVEL|          10253.21|\n",
      "|  C6730370|               GODDA|          13968.07|\n",
      "|  C8932791|    REWARI (HARYANA)|           5511.73|\n",
      "|  C5930363|              ADIPUR|              2.75|\n",
      "|  C8640537|            BATHINDA|           2988.21|\n",
      "|  C6040326|            JABALPUR|          35990.54|\n",
      "|  C4226473|            KASHIPUR|           4001.86|\n",
      "|  C3232257|                ETAH|             78.33|\n",
      "|  C7833983|             TIRUPUR|           2298.51|\n",
      "+----------+--------------------+------------------+\n",
      "only showing top 20 rows\n",
      "\n"
     ]
    }
   ],
   "source": [
    "#17 maximum customer balancr for each location\n",
    "df.createOrReplaceTempView(\"transactions\")\n",
    "spark.sql(\"SELECT t1.CustomerID, t1.CustLocation, t1.CustAccountBalance FROM transactions t1 INNER JOIN (SELECT CustLocation, MAX(CustAccountBalance) AS MaxBalance FROM transactions GROUP BY CustLocation) t2 ON t1.CustLocation = t2.CustLocation AND t1.CustAccountBalance = t2.MaxBalance\").show()\n"
   ]
  },
  {
   "cell_type": "code",
   "execution_count": 30,
   "id": "732a9927",
   "metadata": {},
   "outputs": [
    {
     "name": "stdout",
     "output_type": "stream",
     "text": [
      "+------------+----------+-----------+----------+------------+------------------+---------------+---------------+-----------------+----+\n",
      "|TransctionID|CustomerID|CustomerDOB|CustGender|CustLocation|CustAccountBalance|TransactionDate|TransactionTime|TransactionAmount| _c9|\n",
      "+------------+----------+-----------+----------+------------+------------------+---------------+---------------+-----------------+----+\n",
      "|       T1438|  C1841937|   1/1/1800|         M|      KHANNA|          13226.16|     21-10-2016|         210849|            490.0|null|\n",
      "+------------+----------+-----------+----------+------------+------------------+---------------+---------------+-----------------+----+\n",
      "\n"
     ]
    }
   ],
   "source": [
    "#18\n",
    "#Find the customers who have made transactions larger than their average transaction amoun1t:\n",
    "spark.sql(\"SELECT t1.* FROM transactions t1 INNER JOIN (SELECT CustomerID, AVG(TransactionAmount) AS AvgAmount FROM transactions GROUP BY CustomerID) t2 ON t1.CustomerID = t2.CustomerID WHERE t1.TransactionAmount > t2.AvgAmount\").show()\n"
   ]
  },
  {
   "cell_type": "code",
   "execution_count": null,
   "id": "99210f51",
   "metadata": {},
   "outputs": [],
   "source": []
  },
  {
   "cell_type": "code",
   "execution_count": null,
   "id": "34f1152c",
   "metadata": {},
   "outputs": [],
   "source": [
    "#19Find the top 10 customers with the highest TransactionAmount\n",
    "from pyspark.sql.functions import desc\n",
    "\n",
    "top_10_customers1 = df.orderBy(desc(\"TransactionAmount\")).limit(10)\n",
    "top_10_customers1.show()\n"
   ]
  },
  {
   "cell_type": "code",
   "execution_count": null,
   "id": "32610359",
   "metadata": {},
   "outputs": [
    {
     "name": "stdout",
     "output_type": "stream",
     "text": [
      " \n",
      "            1. Find the number of customers with balance > 500 and transaction amount < 50000 \n",
      "            2. Find the average account balance of female customers \n",
      "            3. Find female customers located in Chennai \n",
      "            4. Group customers by gender and show the total transaction amount for each group \n",
      "            5. Find the highest transaction amount for each day in Mumbai \n",
      "            6. Find the average transaction amount for all transactions \n",
      "            7. Find the highest transaction amount \n",
      "            8. Find the lowest transaction amount \n",
      "            9. Find the customer with the highest transaction amount \n",
      "            10. Group customers by ID and show the total transaction amount for each group \n",
      "            11. Find transactions made on a specific date (e.g. \"21-10-2016\") \n",
      "            12. Find the balance of each customer on a specific date range (e.g. \"03-08-2016\" to \"21-10-2016\") \n",
      "            13. Sort transactions by account balance in descending order \n",
      "            14. Group transactions by location and show the total transaction amount for each group \n",
      "            15. Group transactions by location and show the total transaction amount and count for each group \n",
      "            16. Find the balance of each customer during a specific time range (e.g. \"52256\" to \"183144\") \n",
      "            17. maximum customer balancr for each location \n",
      "            18.the customers who have made transactions larger than their average transaction amoun1t \n",
      "            19.the top 10 customers with the highest TransactionAmount\n",
      "\n",
      "            20. Exit   \n"
     ]
    }
   ],
   "source": [
    "import findspark\n",
    "findspark.init()\n",
    "\n",
    "import pyspark\n",
    "from pyspark.sql import SparkSession\n",
    "\n",
    "from pyspark.sql.functions import *\n",
    "from pyspark.sql.types import *\n",
    "\n",
    "import pandas as pd\n",
    "import matplotlib.pyplot as plot\n",
    "import seaborn as sn\n",
    "\n",
    "spark=SparkSession.builder.appName('demo').getOrCreate() \n",
    "bank_data=spark.read.csv(\"bank_segdata.csv\",inferSchema=True,header=True)\n",
    "\n",
    "\n",
    "def run_query(query_number):\n",
    "    if query_number == 1:\n",
    "        df.filter((df[\"CustAccountBalance\"]>500) & (df[\"TransactionAmount\"]<50000)).show()\n",
    "    \n",
    "    elif query_number == 2:\n",
    "        df.filter(df[\"CustGender\"] == \"F\").selectExpr(\"avg(CustAccountBalance)\").show() \n",
    "    \n",
    "    elif query_number == 3:\n",
    "        result = df.filter((df[\"CustGender\"]==\"F\") & (df[\"CustLocation\"]==\"CHENNAI\")).show() \n",
    "    \n",
    "    elif query_number == 4:\n",
    "        from pyspark.sql.functions import sum\n",
    "        total_transactions = bank_data.groupBy(\"CustGender\").agg(sum(\"TransactionAmount\").alias(\"total_transaction_amount\")).toPandas()\n",
    "        print(total_transactions.head())\n",
    "\n",
    "        sn.set(rc={'figure.figsize':(6,5)})\n",
    "        sn.barplot(data=total_transactions, x='CustGender', y='total_transaction_amount')\n",
    "        plt.title('Total Transaction Amount by Gender')\n",
    "        plt.xlabel('Gender')\n",
    "        plt.ylabel('Total Transaction Amount')\n",
    "        plt.show()\n",
    "\n",
    "    \n",
    "    elif query_number == 5:\n",
    "        from pyspark.sql.functions import max\n",
    "\n",
    "        highest_transactions = df.filter(df[\"CustLocation\"] == \"MUMBAI\") \\\n",
    "                             .groupBy(\"TransactionDate\") \\\n",
    "                             .agg(max(\"TransactionAmount\").alias(\"HighestTransactionAmount\"))\n",
    "\n",
    "        highest_transactions.show()\n",
    "    \n",
    "    elif query_number == 6:\n",
    "        df.select(\"TransactionAmount\").agg({\"TransactionAmount\": \"avg\"}).show() \n",
    "    \n",
    "    elif query_number == 7:\n",
    "        df.select(\"TransactionAmount\").agg({\"TransactionAmount\": \"max\"}).show() \n",
    "    \n",
    "    elif query_number == 8:\n",
    "        df.select(\"TransactionAmount\").agg({\"TransactionAmount\": \"min\"}).show()\n",
    "    \n",
    "    elif query_number == 9:\n",
    "        from pyspark.sql.functions import desc\n",
    "\n",
    "# sort the transactions by amount in descending order\n",
    "        sorted_transactions = df.sort(desc(\"TransactionAmount\"))\n",
    "\n",
    "# get the transaction with the highest amount\n",
    "        highest_transaction = sorted_transactions.first()\n",
    "        print(\"TransctionID:\", highest_transaction.TransctionID)\n",
    "        print(\"Amount:\", highest_transaction.TransactionAmount)\n",
    " \n",
    "    \n",
    "    elif query_number == 10:\n",
    "        from pyspark.sql.functions import sum\n",
    "        total_transactions = bank_data.groupBy(\"CustomerID\").agg(sum(\"TransactionAmount\").alias(\"total_transaction_amount\")).toPandas()\n",
    "        print(total_transactions.head())\n",
    "\n",
    "        sn.set(rc={'figure.figsize':(16,8)})\n",
    "        sn.barplot(data=total_transactions, x='CustomerID', y='total_transaction_amount')\n",
    "        plt.title('Total Transaction Amount by Customer ID')\n",
    "        plt.xlabel('Customer ID')\n",
    "        plt.ylabel('Total Transaction Amount')\n",
    "        plt.show()\n",
    "    \n",
    "    elif query_number == 11:\n",
    "        from pyspark.sql.functions import col\n",
    "\n",
    "# assuming that `df` is a DataFrame object that you have defined elsewhere\n",
    "        count = df.filter(col(\"TransactionDate\") == \"21-10-2016\").show()\n",
    "    \n",
    "    elif query_number == 12:\n",
    "        from pyspark.sql.functions import col, sum\n",
    "\n",
    "# Filter transactions by date range\n",
    "        filtered_transactions_df = df.filter(col(\"TransactionDate\").between(\"03-08-2016\", \"21-10-2016\"))\n",
    "\n",
    "# Print the filtered DataFrame\n",
    "        filtered_transactions_df.show()\n",
    "\n",
    "# Calculate customer balances\n",
    "        customer_balances_df = filtered_transactions_df.groupBy(\"CustomerID\")\\\n",
    "            .agg(sum(\"TransactionAmount\").alias(\"TotalTransactionAmount\"))\\\n",
    "            .join(df.select(\"CustomerID\", \"CustAccountBalance\"), on=\"CustomerID\", how=\"left\")\\\n",
    "            .withColumn(\"CustomerBalance\", col(\"CustAccountBalance\") + col(\"TotalTransactionAmount\"))\n",
    "\n",
    "# Display the resulting DataFrame\n",
    "        customer_balances_df.show() \n",
    "    \n",
    "    elif query_number == 13:\n",
    "        df.orderBy(\"CustAccountBalance\", ascending=False).show() \n",
    "    \n",
    "    elif query_number == 14:\n",
    "        from pyspark.sql.functions import sum\n",
    "        total_transactions = bank_data.groupBy(\"CustLocation\").agg(sum(\"TransactionAmount\").alias(\"total_transaction_amount\")).toPandas()\n",
    "        print(total_transactions.head())\n",
    "\n",
    "        sn.set(rc={'figure.figsize':(12,6)})\n",
    "        sn.barplot(data=total_transactions, x='CustLocation', y='total_transaction_amount')\n",
    "        plt.title('Total Transaction Amount by Customer Location')\n",
    "        plt.xlabel('Customer Location')\n",
    "        plt.ylabel('Total Transaction Amount')\n",
    "        plt.show()\n",
    "    \n",
    "    elif query_number == 15:\n",
    "        df.groupBy(\"CustLocation\").agg({\"TransactionAmount\": \"sum\", \"TransctionID\": \"count\"}).show()\n",
    "    \n",
    "    elif query_number == 16:\n",
    "        from pyspark.sql.functions import col, sum\n",
    "\n",
    "        filtered_transactions_df = df.filter(col(\"TransactionTime\").between(\"52256\", \"183144\"))\n",
    "\n",
    "\n",
    "        filtered_transactions_df.show()\n",
    "\n",
    "\n",
    "        customer_balances_df = filtered_transactions_df.groupBy(\"CustomerID\")\\\n",
    "            .agg(sum(\"TransactionAmount\").alias(\"TotalTransactionAmount\"))\\\n",
    "            .join(df.select(\"CustomerID\", \"CustAccountBalance\"), on=\"CustomerID\", how=\"left\")\\\n",
    "            .withColumn(\"CustomerBalance\", col(\"CustAccountBalance\") + col(\"TotalTransactionAmount\"))\n",
    "\n",
    "        customer_balances_df.show()\n",
    "\n",
    "    elif query_number == 17:                                                                     \n",
    "\n",
    "        df.createOrReplaceTempView(\"transactions\")\n",
    "        spark.sql(\"SELECT t1.CustomerID, t1.CustLocation, t1.CustAccountBalance FROM transactions t1 INNER JOIN (SELECT CustLocation, MAX(CustAccountBalance) AS MaxBalance FROM transactions GROUP BY CustLocation) t2 ON t1.CustLocation = t2.CustLocation AND t1.CustAccountBalance = t2.MaxBalance\").show()\n",
    "\n",
    "    elif query_number == 18:\n",
    "        spark.sql(\"SELECT t1.* FROM transactions t1 INNER JOIN (SELECT CustomerID, AVG(TransactionAmount) AS AvgAmount FROM transactions GROUP BY CustomerID) t2 ON t1.CustomerID = t2.CustomerID WHERE t1.TransactionAmount > t2.AvgAmount\").show() \n",
    "    \n",
    "    elif query_number == 19: \n",
    "        from pyspark.sql.functions import desc\n",
    "\n",
    "        \n",
    "        top_10_customers = df.groupBy(\"CustomerID\").agg({\"TransactionAmount\": \"sum\"}) \\\n",
    "                            .orderBy(desc(\"sum(TransactionAmount)\")).limit(10) \\\n",
    "                            .toPandas()\n",
    "        print(top_10_customers.head())\n",
    "\n",
    "        sn.set(rc={'figure.figsize':(10,6)})\n",
    "        sn.barplot(data=top_10_customers, x='CustomerID', y='sum(TransactionAmount)')\n",
    "        plt.title('Top 10 Customers by Transaction Amount')\n",
    "        plt.xlabel('Customer ID')\n",
    "        plt.ylabel('Total Transaction Amount')\n",
    "        plt.show()\n",
    "\n",
    "    else:\n",
    "        print(\"Invalid choice\")  \n",
    "        \n",
    "        \n",
    "        \n",
    "while True: \n",
    "    print(''' \n",
    "            1. Find the number of customers with balance > 500 and transaction amount < 50000 \n",
    "            2. Find the average account balance of female customers \n",
    "            3. Find female customers located in Chennai \n",
    "            4. Group customers by gender and show the total transaction amount for each group \n",
    "            5. Find the highest transaction amount for each day in Mumbai \n",
    "            6. Find the average transaction amount for all transactions \n",
    "            7. Find the highest transaction amount \n",
    "            8. Find the lowest transaction amount \n",
    "            9. Find the customer with the highest transaction amount \n",
    "            10. Group customers by ID and show the total transaction amount for each group \n",
    "            11. Find transactions made on a specific date (e.g. \"21-10-2016\") \n",
    "            12. Find the balance of each customer on a specific date range (e.g. \"03-08-2016\" to \"21-10-2016\") \n",
    "            13. Sort transactions by account balance in descending order \n",
    "            14. Group transactions by location and show the total transaction amount for each group \n",
    "            15. Group transactions by location and show the total transaction amount and count for each group \n",
    "            16. Find the balance of each customer during a specific time range (e.g. \"52256\" to \"183144\") \n",
    "            17. maximum customer balancr for each location \n",
    "            18.the customers who have made transactions larger than their average transaction amoun1t \n",
    "            19.the top 10 customers with the highest TransactionAmount\n",
    "\n",
    "            20. Exit   ''')\n",
    "\n",
    "    query_number= int(input(\"Enter your choice: \"))\n",
    "    if query_number == 20:\n",
    "        break\n",
    "    run_query(query_number)\n",
    "    \n",
    "    \n"
   ]
  },
  {
   "cell_type": "code",
   "execution_count": null,
   "id": "5cf32351",
   "metadata": {},
   "outputs": [],
   "source": []
  },
  {
   "cell_type": "code",
   "execution_count": null,
   "id": "44f84c6e",
   "metadata": {},
   "outputs": [],
   "source": []
  },
  {
   "cell_type": "code",
   "execution_count": null,
   "id": "102b9b41",
   "metadata": {},
   "outputs": [],
   "source": []
  },
  {
   "cell_type": "code",
   "execution_count": null,
   "id": "46244df5",
   "metadata": {},
   "outputs": [],
   "source": []
  },
  {
   "cell_type": "code",
   "execution_count": null,
   "id": "e9afd69b",
   "metadata": {},
   "outputs": [],
   "source": []
  },
  {
   "cell_type": "code",
   "execution_count": null,
   "id": "612a38c8",
   "metadata": {},
   "outputs": [],
   "source": []
  },
  {
   "cell_type": "code",
   "execution_count": 24,
   "id": "b7619c84",
   "metadata": {},
   "outputs": [
    {
     "data": {
      "image/png": "[encoded data removed]",
      "text/plain": [
       "<Figure size 640x480 with 1 Axes>"
      ]
     },
     "metadata": {},
     "output_type": "display_data"
    }
   ],
   "source": [
    "import pyspark.sql.functions as F\n",
    "import matplotlib.pyplot as plt\n",
    "\n",
    "# Load the data into a Spark DataFrame\n",
    "df = spark.read.csv(\"bank_segdata.csv\", header=True, inferSchema=True)\n",
    "\n",
    "# Group the data by CustGender and calculate the Total TransactionAmount\n",
    "result = df.groupBy(\"CustGender\") \\\n",
    "           .agg(F.sum(\"TransactionAmount\").alias(\"TotalTransactionAmount\"))\n",
    "\n",
    "# Convert the Spark DataFrame to a Pandas DataFrame\n",
    "pandas_df = result.toPandas()\n",
    "\n",
    "# Plot the data using a bar chart\n",
    "pandas_df.plot(kind=\"bar\", x=\"CustGender\", y=\"TotalTransactionAmount\")\n",
    "plt.show()\n"
   ]
  },
  {
   "cell_type": "code",
   "execution_count": 25,
   "id": "da8574b5",
   "metadata": {},
   "outputs": [
    {
     "data": {
      "image/png": "[encoded data removed]",
      "text/plain": [
       "<Figure size 640x480 with 1 Axes>"
      ]
     },
     "metadata": {},
     "output_type": "display_data"
    }
   ],
   "source": [
    "\n",
    "import matplotlib.pyplot as plt\n",
    "import seaborn as sns\n",
    "from pyspark.sql.functions import sum\n",
    "\n",
    "# Load the data into a Spark DataFrame\n",
    "df = spark.read.csv('bank_segdata.csv', header=True, inferSchema=True)\n",
    "\n",
    "# Group the data by CustLocation and calculate the sum of TransactionAmount\n",
    "total_amount_by_location = df.groupBy('CustLocation') \\\n",
    "                             .agg(sum('TransactionAmount').alias('TotalTransactionAmount'))\n",
    "\n",
    "# Convert the result into a Pandas DataFrame\n",
    "df_pandas = total_amount_by_location.toPandas()\n",
    "\n",
    "# Use Seaborn to create the plot\n",
    "sns.barplot(x='CustLocation', y='TotalTransactionAmount', data=df_pandas)\n",
    "\n",
    "# Set the plot title and axis labels\n",
    "plt.title('Total Transaction Amount by CustLocation')\n",
    "plt.xlabel('CustLocation')\n",
    "plt.ylabel('Total Transaction Amount')\n",
    "\n",
    "# Display the plot\n",
    "plt.show()\n"
   ]
  },
  {
   "cell_type": "code",
   "execution_count": null,
   "id": "4470826d",
   "metadata": {},
   "outputs": [],
   "source": [
    "# 19 Find the top 10 customers with the highest custaccountbalance\n",
    "# from pyspark.sql.functions import desc\n",
    "\n",
    "# top_10_customers = df.orderBy(desc(\"CustAccountBalance\")).limit(10)\n",
    "# top_10_customers.show()\n"
   ]
  },
  {
   "cell_type": "code",
   "execution_count": 14,
   "id": "2201cd10",
   "metadata": {},
   "outputs": [],
   "source": [
    "import pandas as pd\n",
    "import matplotlib.pyplot as plt\n",
    "import seaborn as sn\n",
    "df=pd.read_csv(\"bank_segdata.csv\")"
   ]
  },
  {
   "cell_type": "code",
   "execution_count": 18,
   "id": "2204e387",
   "metadata": {},
   "outputs": [
    {
     "name": "stdout",
     "output_type": "stream",
     "text": [
      "root\n",
      " |-- TransctionID,CustomerID,CustomerDOB,CustGender,CustLocation,CustAccountBalance,TransactionDate,TransactionTime,TransactionAmount,: string (nullable = true)\n",
      "\n"
     ]
    }
   ],
   "source": [
    "df.printSchema()\n"
   ]
  },
  {
   "cell_type": "code",
   "execution_count": 56,
   "id": "695168a7",
   "metadata": {},
   "outputs": [
    {
     "name": "stdout",
     "output_type": "stream",
     "text": [
      "+------------+----------+-----------+----------+------------+------------------+---------------+---------------+-----------------+----+\n",
      "|TransctionID|CustomerID|CustomerDOB|CustGender|CustLocation|CustAccountBalance|TransactionDate|TransactionTime|TransactionAmount| _c9|\n",
      "+------------+----------+-----------+----------+------------+------------------+---------------+---------------+-----------------+----+\n",
      "|           0|         0|          2|         1|           0|                 2|              0|              0|                0|2006|\n",
      "+------------+----------+-----------+----------+------------+------------------+---------------+---------------+-----------------+----+\n",
      "\n"
     ]
    }
   ],
   "source": [
    "from pyspark.sql.functions import col,isnan,when,count\n",
    "df2 = df.select([count(when(col(c).contains('None') | \\\n",
    "                            col(c).contains('NULL') | \\\n",
    "                            (col(c) == '' ) | \\\n",
    "                            col(c).isNull() | \\\n",
    "                            isnan(c), c \n",
    "                           )).alias(c)\n",
    "                    for c in df.columns])\n",
    "df2.show()"
   ]
  },
  {
   "cell_type": "code",
   "execution_count": 9,
   "id": "e4104f34",
   "metadata": {},
   "outputs": [
    {
     "data": {
      "text/plain": [
       "Text(0.5, 1.0, 'jk')"
      ]
     },
     "execution_count": 9,
     "metadata": {},
     "output_type": "execute_result"
    },
    {
     "data": {
      "image/png": "[encoded data removed]",
      "text/plain": [
       "<Figure size 500x600 with 1 Axes>"
      ]
     },
     "metadata": {},
     "output_type": "display_data"
    }
   ],
   "source": [
    "import findspark\n",
    "findspark.init()\n",
    "import pyspark\n",
    "import pandas\n",
    "import matplotlib.pyplot as plt\n",
    "import seaborn as sb\n",
    "from pyspark.sql import SparkSession\n",
    "spark = SparkSession.builder.getOrCreate()\n",
    "from pyspark.sql.functions import *\n",
    "df = spark.read.csv(\"bank_segdata.csv\", inferSchema = True,header = True)\n",
    "pandas_df=df.toPandas()\n",
    "plt.figure(figsize = (5,6))\n",
    "sb.barplot(x=\"CustGender\", y=\"CustAccountBalance\", data=pandas_df)\n",
    "plt.title(\"jk\")"
   ]
  },
  {
   "cell_type": "code",
   "execution_count": 43,
   "id": "084af8c8",
   "metadata": {},
   "outputs": [
    {
     "name": "stdout",
     "output_type": "stream",
     "text": [
      "  CustGender  total_transaction_amount\n",
      "0          F                 877278.52\n",
      "1       None                   3449.00\n",
      "2          M                2855457.66\n"
     ]
    },
    {
     "data": {
      "image/png": "[encoded data removed]",
      "text/plain": [
       "<Figure size 600x500 with 1 Axes>"
      ]
     },
     "metadata": {},
     "output_type": "display_data"
    }
   ],
   "source": [
    "import findspark\n",
    "findspark.init()\n",
    "\n",
    "import pyspark\n",
    "from pyspark.sql import SparkSession\n",
    "\n",
    "from pyspark.sql.functions import *\n",
    "from pyspark.sql.types import *\n",
    "\n",
    "import pandas as pd\n",
    "import matplotlib.pyplot as plt\n",
    "import seaborn as sn\n",
    "\n",
    "spark=SparkSession.builder.appName('demo').getOrCreate() \n",
    "bank_data=spark.read.csv(\"bank_segdata.csv\",inferSchema=True,header=True)\n",
    "\n",
    "total_transactions = bank_data.groupBy(\"CustGender\").agg(sum(\"TransactionAmount\").alias(\"total_transaction_amount\")).toPandas()\n",
    "print(total_transactions.head())\n",
    "\n",
    "sn.set(rc={'figure.figsize':(6,5)})\n",
    "sn.barplot(data=total_transactions, x='CustGender', y='total_transaction_amount')\n",
    "plt.title('Total Transaction Amount by Gender')\n",
    "plt.xlabel('Gender')\n",
    "plt.ylabel('Total Transaction Amount')\n",
    "plt.show()\n"
   ]
  },
  {
   "cell_type": "code",
   "execution_count": 44,
   "id": "8dd3ad75",
   "metadata": {},
   "outputs": [
    {
     "name": "stdout",
     "output_type": "stream",
     "text": [
      "  CustomerID  total_transaction_amount\n",
      "0   C8732711                   1423.00\n",
      "1   C6421261                   5555.00\n",
      "2   C2939112                    321.00\n",
      "3   C8741166                   1512.75\n",
      "4   C4440931                    200.00\n"
     ]
    },
    {
     "data": {
      "image/png": "[encoded data removed]",
      "text/plain": [
       "<Figure size 1600x800 with 1 Axes>"
      ]
     },
     "metadata": {},
     "output_type": "display_data"
    }
   ],
   "source": [
    "import findspark\n",
    "findspark.init()\n",
    "\n",
    "import pyspark\n",
    "from pyspark.sql import SparkSession\n",
    "\n",
    "from pyspark.sql.functions import *\n",
    "from pyspark.sql.types import *\n",
    "\n",
    "import pandas as pd\n",
    "import matplotlib.pyplot as plt\n",
    "import seaborn as sn\n",
    "\n",
    "spark=SparkSession.builder.appName('demo').getOrCreate() \n",
    "bank_data=spark.read.csv(\"bank_segdata.csv\",inferSchema=True,header=True)\n",
    "\n",
    "total_transactions = bank_data.groupBy(\"CustomerID\").agg(sum(\"TransactionAmount\").alias(\"total_transaction_amount\")).toPandas()\n",
    "print(total_transactions.head())\n",
    "\n",
    "sn.set(rc={'figure.figsize':(16,8)})\n",
    "sn.barplot(data=total_transactions, x='CustomerID', y='total_transaction_amount')\n",
    "plt.title('Total Transaction Amount by Customer ID')\n",
    "plt.xlabel('Customer ID')\n",
    "plt.ylabel('Total Transaction Amount')\n",
    "plt.show()\n"
   ]
  },
  {
   "cell_type": "code",
   "execution_count": 45,
   "id": "3b7d9dec",
   "metadata": {},
   "outputs": [
    {
     "name": "stdout",
     "output_type": "stream",
     "text": [
      "       CustLocation  total_transaction_amount\n",
      "0           GWALIOR                    2350.0\n",
      "1            BOKARO                    6335.0\n",
      "2          KALYAN W                     137.7\n",
      "3  KALYAN (W) THANE                    3943.0\n",
      "4        RAI BARELI                      50.0\n"
     ]
    },
    {
     "data": {
      "image/png": "[encoded data removed]",
      "text/plain": [
       "<Figure size 1200x600 with 1 Axes>"
      ]
     },
     "metadata": {},
     "output_type": "display_data"
    }
   ],
   "source": [
    "import findspark\n",
    "findspark.init()\n",
    "\n",
    "import pyspark\n",
    "from pyspark.sql import SparkSession\n",
    "\n",
    "from pyspark.sql.functions import *\n",
    "from pyspark.sql.types import *\n",
    "\n",
    "import pandas as pd\n",
    "import matplotlib.pyplot as plt\n",
    "import seaborn as sn\n",
    "\n",
    "spark=SparkSession.builder.appName('demo').getOrCreate() \n",
    "bank_data=spark.read.csv(\"bank_segdata.csv\",inferSchema=True,header=True)\n",
    "\n",
    "total_transactions = bank_data.groupBy(\"CustLocation\").agg(sum(\"TransactionAmount\").alias(\"total_transaction_amount\")).toPandas()\n",
    "print(total_transactions.head())\n",
    "\n",
    "sn.set(rc={'figure.figsize':(12,6)})\n",
    "sn.barplot(data=total_transactions, x='CustLocation', y='total_transaction_amount')\n",
    "plt.title('Total Transaction Amount by Customer Location')\n",
    "plt.xlabel('Customer Location')\n",
    "plt.ylabel('Total Transaction Amount')\n",
    "plt.show()\n"
   ]
  },
  {
   "cell_type": "code",
   "execution_count": null,
   "id": "ba7885cc",
   "metadata": {},
   "outputs": [],
   "source": []
  },
  {
   "cell_type": "code",
   "execution_count": 47,
   "id": "3a3fe422",
   "metadata": {},
   "outputs": [
    {
     "name": "stdout",
     "output_type": "stream",
     "text": [
      "  CustomerID  sum(TransactionAmount)\n",
      "0   C7675278                137890.0\n",
      "1   C6629680                100000.0\n",
      "2   C7814446                100000.0\n",
      "3   C3414431                100000.0\n",
      "4   C1631481                100000.0\n"
     ]
    },
    {
     "data": {
      "image/png": "[encoded data removed]",
      "text/plain": [
       "<Figure size 1000x600 with 1 Axes>"
      ]
     },
     "metadata": {},
     "output_type": "display_data"
    }
   ],
   "source": [
    "import findspark\n",
    "findspark.init()\n",
    "\n",
    "import pyspark\n",
    "from pyspark.sql import SparkSession\n",
    "\n",
    "from pyspark.sql.functions import desc\n",
    "from pyspark.sql.types import *\n",
    "\n",
    "import pandas as pd\n",
    "import matplotlib.pyplot as plt\n",
    "import seaborn as sn\n",
    "\n",
    "spark=SparkSession.builder.appName('demo').getOrCreate() \n",
    "df=spark.read.csv(\"bank_segdata.csv\",inferSchema=True,header=True)\n",
    "\n",
    "top_10_customers = df.groupBy(\"CustomerID\").agg({\"TransactionAmount\": \"sum\"}) \\\n",
    "                    .orderBy(desc(\"sum(TransactionAmount)\")).limit(10) \\\n",
    "                    .toPandas()\n",
    "print(top_10_customers.head())\n",
    "\n",
    "sn.set(rc={'figure.figsize':(10,6)})\n",
    "sn.barplot(data=top_10_customers, x='CustomerID', y='sum(TransactionAmount)')\n",
    "plt.title('Top 10 Customers by Transaction Amount')\n",
    "plt.xlabel('Customer ID')\n",
    "plt.ylabel('Total Transaction Amount')\n",
    "plt.show()\n"
   ]
  },
  {
   "cell_type": "code",
   "execution_count": null,
   "id": "b4bb3707",
   "metadata": {},
   "outputs": [],
   "source": []
  },
  {
   "cell_type": "code",
   "execution_count": null,
   "id": "5787faa0",
   "metadata": {},
   "outputs": [],
   "source": []
  },
  {
   "cell_type": "code",
   "execution_count": null,
   "id": "6652b8c1",
   "metadata": {},
   "outputs": [],
   "source": []
  }
 ],
 "metadata": {
  "kernelspec": {
   "display_name": "Python 3 (ipykernel)",
   "language": "python",
   "name": "python3"
  },
  "language_info": {
   "codemirror_mode": {
    "name": "ipython",
    "version": 3
   },
   "file_extension": ".py",
   "mimetype": "text/x-python",
   "name": "python",
   "nbconvert_exporter": "python",
   "pygments_lexer": "ipython3",
   "version": "3.9.13"
  }
 },
 "nbformat": 4,
 "nbformat_minor": 5
}
